{
 "cells": [
  {
   "cell_type": "markdown",
   "metadata": {},
   "source": [
    "### Heroes Of Pymoli Data Analysis\n",
    "* Of the 1163 active players, the vast majority are male (84%). There also exists, a smaller, but notable proportion of female players (14%).\n",
    "\n",
    "* Our peak age demographic falls between 20-24 (44.8%) with secondary groups falling between 15-19 (18.60%) and 25-29 (13.4%).  \n",
    "-----"
   ]
  },
  {
   "cell_type": "markdown",
   "metadata": {},
   "source": [
    "### Note\n",
    "* Instructions have been included for each segment. You do not have to follow them exactly, but they are included to help you think through the steps."
   ]
  },
  {
   "cell_type": "code",
   "execution_count": 8,
   "metadata": {},
   "outputs": [],
   "source": [
    "# Dependencies and Setup\n",
    "import pandas as pd\n",
    "import numpy as np\n",
    "\n",
    "# File to Load (Remember to Change These)\n",
    "file_to_load = \"Resources/purchase_data.csv\"\n",
    "\n",
    "# Read Purchasing File and store into Pandas data frame\n",
    "purchase_data = pd.read_csv(file_to_load)"
   ]
  },
  {
   "cell_type": "markdown",
   "metadata": {},
   "source": [
    "## Player Count"
   ]
  },
  {
   "cell_type": "markdown",
   "metadata": {},
   "source": [
    "* Display the total number of players\n"
   ]
  },
  {
   "cell_type": "code",
   "execution_count": 30,
   "metadata": {},
   "outputs": [
    {
     "data": {
      "text/html": [
       "<div>\n",
       "<style scoped>\n",
       "    .dataframe tbody tr th:only-of-type {\n",
       "        vertical-align: middle;\n",
       "    }\n",
       "\n",
       "    .dataframe tbody tr th {\n",
       "        vertical-align: top;\n",
       "    }\n",
       "\n",
       "    .dataframe thead th {\n",
       "        text-align: right;\n",
       "    }\n",
       "</style>\n",
       "<table border=\"1\" class=\"dataframe\">\n",
       "  <thead>\n",
       "    <tr style=\"text-align: right;\">\n",
       "      <th></th>\n",
       "      <th>Total Players</th>\n",
       "    </tr>\n",
       "  </thead>\n",
       "  <tbody>\n",
       "    <tr>\n",
       "      <th>0</th>\n",
       "      <td>576</td>\n",
       "    </tr>\n",
       "  </tbody>\n",
       "</table>\n",
       "</div>"
      ],
      "text/plain": [
       "   Total Players\n",
       "0            576"
      ]
     },
     "execution_count": 30,
     "metadata": {},
     "output_type": "execute_result"
    }
   ],
   "source": [
    "player_count = len(purchase_data[\"SN\"].value_counts())\n",
    "pd.DataFrame([player_count], columns = [\"Total Players\"])"
   ]
  },
  {
   "cell_type": "markdown",
   "metadata": {},
   "source": [
    "## Purchasing Analysis (Total)"
   ]
  },
  {
   "cell_type": "markdown",
   "metadata": {},
   "source": [
    "* Run basic calculations to obtain number of unique items, average price, etc.\n",
    "\n",
    "\n",
    "* Create a summary data frame to hold the results\n",
    "\n",
    "\n",
    "* Optional: give the displayed data cleaner formatting\n",
    "\n",
    "\n",
    "* Display the summary data frame\n"
   ]
  },
  {
   "cell_type": "code",
   "execution_count": 37,
   "metadata": {
    "scrolled": true
   },
   "outputs": [
    {
     "data": {
      "text/html": [
       "<style  type=\"text/css\" >\n",
       "</style>  \n",
       "<table id=\"T_8cb6cc10_cf5d_11e8_a6fc_5cea1d6be82c\" > \n",
       "<thead>    <tr> \n",
       "        <th class=\"blank level0\" ></th> \n",
       "        <th class=\"col_heading level0 col0\" >Average Purchase Price</th> \n",
       "        <th class=\"col_heading level0 col1\" >Number of Unique Items</th> \n",
       "        <th class=\"col_heading level0 col2\" >Total Purchases</th> \n",
       "        <th class=\"col_heading level0 col3\" >Total Revenue</th> \n",
       "    </tr></thead> \n",
       "<tbody>    <tr> \n",
       "        <th id=\"T_8cb6cc10_cf5d_11e8_a6fc_5cea1d6be82clevel0_row0\" class=\"row_heading level0 row0\" >0</th> \n",
       "        <td id=\"T_8cb6cc10_cf5d_11e8_a6fc_5cea1d6be82crow0_col0\" class=\"data row0 col0\" >$3.05</td> \n",
       "        <td id=\"T_8cb6cc10_cf5d_11e8_a6fc_5cea1d6be82crow0_col1\" class=\"data row0 col1\" >183</td> \n",
       "        <td id=\"T_8cb6cc10_cf5d_11e8_a6fc_5cea1d6be82crow0_col2\" class=\"data row0 col2\" >780</td> \n",
       "        <td id=\"T_8cb6cc10_cf5d_11e8_a6fc_5cea1d6be82crow0_col3\" class=\"data row0 col3\" >$2,379.77</td> \n",
       "    </tr></tbody> \n",
       "</table> "
      ],
      "text/plain": [
       "<pandas.io.formats.style.Styler at 0x23b60d791d0>"
      ]
     },
     "execution_count": 37,
     "metadata": {},
     "output_type": "execute_result"
    }
   ],
   "source": [
    "no_dup_items = purchase_data.drop_duplicates(['Item ID'], keep = 'last')\n",
    "total_unique = len(no_dup_items)\n",
    "total_pur = purchase_data['Price'].count()\n",
    "total_rev = round(purchase_data['Price'].sum(),2)\n",
    "avg_price = round(total_rev/total_pur, 2)\n",
    "pur_analysis = pd.DataFrame([{\n",
    "    \"Number of Unique Items\": total_unique,\n",
    "    'Average Purchase Price': avg_price,\n",
    "    'Total Purchases': total_pur,\n",
    "    'Total Revenue': total_rev}])\n",
    "pur_analysis.style.format({'Average Purchase Price': '${:.2f}', 'Total Revenue': '${:,.2f}'})"
   ]
  },
  {
   "cell_type": "markdown",
   "metadata": {},
   "source": [
    "## Gender Demographics"
   ]
  },
  {
   "cell_type": "markdown",
   "metadata": {},
   "source": [
    "* Percentage and Count of Male Players\n",
    "\n",
    "\n",
    "* Percentage and Count of Female Players\n",
    "\n",
    "\n",
    "* Percentage and Count of Other / Non-Disclosed\n",
    "\n",
    "\n"
   ]
  },
  {
   "cell_type": "code",
   "execution_count": 40,
   "metadata": {},
   "outputs": [
    {
     "data": {
      "text/html": [
       "<style  type=\"text/css\" >\n",
       "</style>  \n",
       "<table id=\"T_e9a845c0_cf5d_11e8_b6f6_5cea1d6be82c\" > \n",
       "<thead>    <tr> \n",
       "        <th class=\"blank level0\" ></th> \n",
       "        <th class=\"col_heading level0 col0\" ># of Players</th> \n",
       "        <th class=\"col_heading level0 col1\" >% of Players</th> \n",
       "    </tr>    <tr> \n",
       "        <th class=\"index_name level0\" >Gender</th> \n",
       "        <th class=\"blank\" ></th> \n",
       "        <th class=\"blank\" ></th> \n",
       "    </tr></thead> \n",
       "<tbody>    <tr> \n",
       "        <th id=\"T_e9a845c0_cf5d_11e8_b6f6_5cea1d6be82clevel0_row0\" class=\"row_heading level0 row0\" >Male</th> \n",
       "        <td id=\"T_e9a845c0_cf5d_11e8_b6f6_5cea1d6be82crow0_col0\" class=\"data row0 col0\" >484</td> \n",
       "        <td id=\"T_e9a845c0_cf5d_11e8_b6f6_5cea1d6be82crow0_col1\" class=\"data row0 col1\" >84.0%</td> \n",
       "    </tr>    <tr> \n",
       "        <th id=\"T_e9a845c0_cf5d_11e8_b6f6_5cea1d6be82clevel0_row1\" class=\"row_heading level0 row1\" >Female</th> \n",
       "        <td id=\"T_e9a845c0_cf5d_11e8_b6f6_5cea1d6be82crow1_col0\" class=\"data row1 col0\" >81</td> \n",
       "        <td id=\"T_e9a845c0_cf5d_11e8_b6f6_5cea1d6be82crow1_col1\" class=\"data row1 col1\" >14.1%</td> \n",
       "    </tr>    <tr> \n",
       "        <th id=\"T_e9a845c0_cf5d_11e8_b6f6_5cea1d6be82clevel0_row2\" class=\"row_heading level0 row2\" >Other / Non-Disclosed</th> \n",
       "        <td id=\"T_e9a845c0_cf5d_11e8_b6f6_5cea1d6be82crow2_col0\" class=\"data row2 col0\" >11</td> \n",
       "        <td id=\"T_e9a845c0_cf5d_11e8_b6f6_5cea1d6be82crow2_col1\" class=\"data row2 col1\" >1.9%</td> \n",
       "    </tr></tbody> \n",
       "</table> "
      ],
      "text/plain": [
       "<pandas.io.formats.style.Styler at 0x23b60a25ba8>"
      ]
     },
     "execution_count": 40,
     "metadata": {},
     "output_type": "execute_result"
    }
   ],
   "source": [
    "no_dup_players = purchase_data.drop_duplicates(['SN'], keep ='last')\n",
    "gender_counts = no_dup_players['Gender'].value_counts().reset_index()\n",
    "gender_counts['% of Players'] = gender_counts['Gender']/player_count * 100\n",
    "gender_counts.rename(columns = {'index': 'Gender', 'Gender': '# of Players'}, inplace = True)\n",
    "gender_counts.set_index(['Gender'], inplace = True)\n",
    "gender_counts.style.format({\"% of Players\": \"{:.1f}%\"})"
   ]
  },
  {
   "cell_type": "markdown",
   "metadata": {},
   "source": [
    "\n",
    "## Purchasing Analysis (Gender)"
   ]
  },
  {
   "cell_type": "markdown",
   "metadata": {},
   "source": [
    "* Run basic calculations to obtain purchase count, avg. purchase price, avg. purchase total per person etc. by gender\n",
    "\n",
    "\n",
    "\n",
    "\n",
    "* Create a summary data frame to hold the results\n",
    "\n",
    "\n",
    "* Optional: give the displayed data cleaner formatting\n",
    "\n",
    "\n",
    "* Display the summary data frame"
   ]
  },
  {
   "cell_type": "code",
   "execution_count": 45,
   "metadata": {},
   "outputs": [
    {
     "data": {
      "text/html": [
       "<style  type=\"text/css\" >\n",
       "</style>  \n",
       "<table id=\"T_673b8940_cf5e_11e8_9ca9_5cea1d6be82c\" > \n",
       "<thead>    <tr> \n",
       "        <th class=\"blank level0\" ></th> \n",
       "        <th class=\"col_heading level0 col0\" ># of Purchases</th> \n",
       "        <th class=\"col_heading level0 col1\" >Total Purchase Value</th> \n",
       "        <th class=\"col_heading level0 col2\" >Average Purchase Price</th> \n",
       "        <th class=\"col_heading level0 col3\" >Normalized Totals</th> \n",
       "    </tr>    <tr> \n",
       "        <th class=\"index_name level0\" >Gender</th> \n",
       "        <th class=\"blank\" ></th> \n",
       "        <th class=\"blank\" ></th> \n",
       "        <th class=\"blank\" ></th> \n",
       "        <th class=\"blank\" ></th> \n",
       "    </tr></thead> \n",
       "<tbody>    <tr> \n",
       "        <th id=\"T_673b8940_cf5e_11e8_9ca9_5cea1d6be82clevel0_row0\" class=\"row_heading level0 row0\" >Female</th> \n",
       "        <td id=\"T_673b8940_cf5e_11e8_9ca9_5cea1d6be82crow0_col0\" class=\"data row0 col0\" >113</td> \n",
       "        <td id=\"T_673b8940_cf5e_11e8_9ca9_5cea1d6be82crow0_col1\" class=\"data row0 col1\" >$361.94</td> \n",
       "        <td id=\"T_673b8940_cf5e_11e8_9ca9_5cea1d6be82crow0_col2\" class=\"data row0 col2\" >$3.20</td> \n",
       "        <td id=\"T_673b8940_cf5e_11e8_9ca9_5cea1d6be82crow0_col3\" class=\"data row0 col3\" >$4.47</td> \n",
       "    </tr>    <tr> \n",
       "        <th id=\"T_673b8940_cf5e_11e8_9ca9_5cea1d6be82clevel0_row1\" class=\"row_heading level0 row1\" >Male</th> \n",
       "        <td id=\"T_673b8940_cf5e_11e8_9ca9_5cea1d6be82crow1_col0\" class=\"data row1 col0\" >652</td> \n",
       "        <td id=\"T_673b8940_cf5e_11e8_9ca9_5cea1d6be82crow1_col1\" class=\"data row1 col1\" >$1967.64</td> \n",
       "        <td id=\"T_673b8940_cf5e_11e8_9ca9_5cea1d6be82crow1_col2\" class=\"data row1 col2\" >$3.02</td> \n",
       "        <td id=\"T_673b8940_cf5e_11e8_9ca9_5cea1d6be82crow1_col3\" class=\"data row1 col3\" >$4.07</td> \n",
       "    </tr>    <tr> \n",
       "        <th id=\"T_673b8940_cf5e_11e8_9ca9_5cea1d6be82clevel0_row2\" class=\"row_heading level0 row2\" >Other / Non-Disclosed</th> \n",
       "        <td id=\"T_673b8940_cf5e_11e8_9ca9_5cea1d6be82crow2_col0\" class=\"data row2 col0\" >15</td> \n",
       "        <td id=\"T_673b8940_cf5e_11e8_9ca9_5cea1d6be82crow2_col1\" class=\"data row2 col1\" >$50.19</td> \n",
       "        <td id=\"T_673b8940_cf5e_11e8_9ca9_5cea1d6be82crow2_col2\" class=\"data row2 col2\" >$3.35</td> \n",
       "        <td id=\"T_673b8940_cf5e_11e8_9ca9_5cea1d6be82crow2_col3\" class=\"data row2 col3\" >$4.56</td> \n",
       "    </tr></tbody> \n",
       "</table> "
      ],
      "text/plain": [
       "<pandas.io.formats.style.Styler at 0x23b60dbc588>"
      ]
     },
     "execution_count": 45,
     "metadata": {},
     "output_type": "execute_result"
    }
   ],
   "source": [
    "pur_count_by_gen = pd.DataFrame(purchase_data.groupby('Gender')['Gender'].count())\n",
    "total_pur_by_gen = pd.DataFrame(purchase_data.groupby('Gender')['Price'].sum())\n",
    "pur_analysis_gen = pd.merge(pur_count_by_gen, total_pur_by_gen, left_index = True, right_index = True)\n",
    "pur_analysis_gen.rename(columns = {'Gender': '# of Purchases', 'Price':'Total Purchase Value'}, inplace=True)\n",
    "pur_analysis_gen['Average Purchase Price'] = pur_analysis_gen['Total Purchase Value']/pur_analysis_gen['# of Purchases']\n",
    "pur_analysis_gen = pur_analysis_gen.merge(gender_counts, left_index = True, right_index = True)\n",
    "pur_analysis_gen['Normalized Totals'] = pur_analysis_gen['Total Purchase Value']/pur_analysis_gen['# of Players']\n",
    "pur_analysis_gen\n",
    "del pur_analysis_gen['% of Players']\n",
    "del pur_analysis_gen['# of Players']\n",
    "pur_analysis_gen.style.format({'Total Purchase Value': '${:.2f}', 'Average Purchase Price': '${:.2f}', 'Normalized Totals': '${:.2f}'})"
   ]
  },
  {
   "cell_type": "markdown",
   "metadata": {},
   "source": [
    "## Age Demographics"
   ]
  },
  {
   "cell_type": "markdown",
   "metadata": {},
   "source": [
    "* Establish bins for ages\n",
    "\n",
    "\n",
    "* Categorize the existing players using the age bins. Hint: use pd.cut()\n",
    "\n",
    "\n",
    "* Calculate the numbers and percentages by age group\n",
    "\n",
    "\n",
    "* Create a summary data frame to hold the results\n",
    "\n",
    "\n",
    "* Optional: round the percentage column to two decimal points\n",
    "\n",
    "\n",
    "* Display Age Demographics Table\n"
   ]
  },
  {
   "cell_type": "code",
   "execution_count": 47,
   "metadata": {},
   "outputs": [
    {
     "data": {
      "text/html": [
       "<div>\n",
       "<style scoped>\n",
       "    .dataframe tbody tr th:only-of-type {\n",
       "        vertical-align: middle;\n",
       "    }\n",
       "\n",
       "    .dataframe tbody tr th {\n",
       "        vertical-align: top;\n",
       "    }\n",
       "\n",
       "    .dataframe thead th {\n",
       "        text-align: right;\n",
       "    }\n",
       "</style>\n",
       "<table border=\"1\" class=\"dataframe\">\n",
       "  <thead>\n",
       "    <tr style=\"text-align: right;\">\n",
       "      <th></th>\n",
       "      <th>Percent of Players</th>\n",
       "      <th>Total Count</th>\n",
       "    </tr>\n",
       "  </thead>\n",
       "  <tbody>\n",
       "    <tr>\n",
       "      <th>&lt;10</th>\n",
       "      <td>2.95</td>\n",
       "      <td>17</td>\n",
       "    </tr>\n",
       "    <tr>\n",
       "      <th>10-14</th>\n",
       "      <td>3.82</td>\n",
       "      <td>22</td>\n",
       "    </tr>\n",
       "    <tr>\n",
       "      <th>15-19</th>\n",
       "      <td>18.58</td>\n",
       "      <td>107</td>\n",
       "    </tr>\n",
       "    <tr>\n",
       "      <th>20-24</th>\n",
       "      <td>44.79</td>\n",
       "      <td>258</td>\n",
       "    </tr>\n",
       "    <tr>\n",
       "      <th>25-29</th>\n",
       "      <td>13.37</td>\n",
       "      <td>77</td>\n",
       "    </tr>\n",
       "    <tr>\n",
       "      <th>30-34</th>\n",
       "      <td>9.03</td>\n",
       "      <td>52</td>\n",
       "    </tr>\n",
       "    <tr>\n",
       "      <th>35-39</th>\n",
       "      <td>5.38</td>\n",
       "      <td>31</td>\n",
       "    </tr>\n",
       "    <tr>\n",
       "      <th>40+</th>\n",
       "      <td>2.08</td>\n",
       "      <td>12</td>\n",
       "    </tr>\n",
       "  </tbody>\n",
       "</table>\n",
       "</div>"
      ],
      "text/plain": [
       "       Percent of Players  Total Count\n",
       "<10                  2.95           17\n",
       "10-14                3.82           22\n",
       "15-19               18.58          107\n",
       "20-24               44.79          258\n",
       "25-29               13.37           77\n",
       "30-34                9.03           52\n",
       "35-39                5.38           31\n",
       "40+                  2.08           12"
      ]
     },
     "execution_count": 47,
     "metadata": {},
     "output_type": "execute_result"
    }
   ],
   "source": [
    "table = purchase_data[[\"SN\",\"Age\"]]\n",
    "table = table.drop_duplicates()\n",
    "\n",
    "age_10 = table[table[\"Age\"] < 10].count()[0]\n",
    "age_14 = table[(table[\"Age\"] >= 10) & (table[\"Age\"] <= 14)].count()[0]\n",
    "age_19 = table[(table[\"Age\"] >= 15) & (table[\"Age\"] <= 19)].count()[0]\n",
    "age_24 = table[(table[\"Age\"] >= 20) & (table[\"Age\"] <= 24)].count()[0]\n",
    "age_29 = table[(table[\"Age\"] >= 25) & (table[\"Age\"] <= 29)].count()[0]\n",
    "age_34 = table[(table[\"Age\"] >= 30) & (table[\"Age\"] <= 34)].count()[0]\n",
    "age_39 = table[(table[\"Age\"] >= 35) & (table[\"Age\"] <= 39)].count()[0]\n",
    "age_40 = table[table[\"Age\"] >= 40].count()[0]\n",
    "ages = [age_10, age_14, age_19, age_24, age_29, age_34, age_39, age_40]\n",
    "\n",
    "percent_10 = round((age_10/player_count)*100,2)\n",
    "percent_14 = round((age_14/player_count)*100,2)\n",
    "percent_19 = round((age_19/player_count)*100,2)\n",
    "percent_24 = round((age_24/player_count)*100,2)\n",
    "percent_29 = round((age_29/player_count)*100,2)\n",
    "percent_34 = round((age_34/player_count)*100,2)\n",
    "percent_39 = round((age_39/player_count)*100,2)\n",
    "percent_40 = round((age_40/player_count)*100,2)\n",
    "percents_a = [percent_10, percent_14, percent_19, percent_24, percent_29, percent_34, percent_39, percent_40]\n",
    "\n",
    "age_demo = {\"Percent of Players\": percents_a, \"Total Count\": ages}\n",
    "age_demo_df = pd.DataFrame(age_demo)\n",
    "age_demo_df.index = ([\"<10\", \"10-14\", \"15-19\", \"20-24\", \"25-29\", \"30-34\", \"35-39\", \"40+\"])\n",
    "age_demo_df"
   ]
  },
  {
   "cell_type": "markdown",
   "metadata": {},
   "source": [
    "## Purchasing Analysis (Age)"
   ]
  },
  {
   "cell_type": "markdown",
   "metadata": {},
   "source": [
    "* Bin the purchase_data data frame by age\n",
    "\n",
    "\n",
    "* Run basic calculations to obtain purchase count, avg. purchase price, avg. purchase total per person etc. in the table below\n",
    "\n",
    "\n",
    "* Create a summary data frame to hold the results\n",
    "\n",
    "\n",
    "* Optional: give the displayed data cleaner formatting\n",
    "\n",
    "\n",
    "* Display the summary data frame"
   ]
  },
  {
   "cell_type": "code",
   "execution_count": 48,
   "metadata": {},
   "outputs": [
    {
     "data": {
      "text/html": [
       "<style  type=\"text/css\" >\n",
       "</style>  \n",
       "<table id=\"T_83453f38_cf60_11e8_9d32_5cea1d6be82c\" > \n",
       "<thead>    <tr> \n",
       "        <th class=\"blank level0\" ></th> \n",
       "        <th class=\"col_heading level0 col0\" >Purchase Count</th> \n",
       "        <th class=\"col_heading level0 col1\" >Average Purchase Price</th> \n",
       "        <th class=\"col_heading level0 col2\" >Total Purchase Value</th> \n",
       "        <th class=\"col_heading level0 col3\" >Normalized Totals</th> \n",
       "    </tr></thead> \n",
       "<tbody>    <tr> \n",
       "        <th id=\"T_83453f38_cf60_11e8_9d32_5cea1d6be82clevel0_row0\" class=\"row_heading level0 row0\" ><10</th> \n",
       "        <td id=\"T_83453f38_cf60_11e8_9d32_5cea1d6be82crow0_col0\" class=\"data row0 col0\" >23</td> \n",
       "        <td id=\"T_83453f38_cf60_11e8_9d32_5cea1d6be82crow0_col1\" class=\"data row0 col1\" >$3.35</td> \n",
       "        <td id=\"T_83453f38_cf60_11e8_9d32_5cea1d6be82crow0_col2\" class=\"data row0 col2\" >$77.13</td> \n",
       "        <td id=\"T_83453f38_cf60_11e8_9d32_5cea1d6be82crow0_col3\" class=\"data row0 col3\" >$4.54</td> \n",
       "    </tr>    <tr> \n",
       "        <th id=\"T_83453f38_cf60_11e8_9d32_5cea1d6be82clevel0_row1\" class=\"row_heading level0 row1\" >10-14</th> \n",
       "        <td id=\"T_83453f38_cf60_11e8_9d32_5cea1d6be82crow1_col0\" class=\"data row1 col0\" >28</td> \n",
       "        <td id=\"T_83453f38_cf60_11e8_9d32_5cea1d6be82crow1_col1\" class=\"data row1 col1\" >$2.96</td> \n",
       "        <td id=\"T_83453f38_cf60_11e8_9d32_5cea1d6be82crow1_col2\" class=\"data row1 col2\" >$82.78</td> \n",
       "        <td id=\"T_83453f38_cf60_11e8_9d32_5cea1d6be82crow1_col3\" class=\"data row1 col3\" >$3.76</td> \n",
       "    </tr>    <tr> \n",
       "        <th id=\"T_83453f38_cf60_11e8_9d32_5cea1d6be82clevel0_row2\" class=\"row_heading level0 row2\" >15-19</th> \n",
       "        <td id=\"T_83453f38_cf60_11e8_9d32_5cea1d6be82crow2_col0\" class=\"data row2 col0\" >136</td> \n",
       "        <td id=\"T_83453f38_cf60_11e8_9d32_5cea1d6be82crow2_col1\" class=\"data row2 col1\" >$3.04</td> \n",
       "        <td id=\"T_83453f38_cf60_11e8_9d32_5cea1d6be82crow2_col2\" class=\"data row2 col2\" >$412.89</td> \n",
       "        <td id=\"T_83453f38_cf60_11e8_9d32_5cea1d6be82crow2_col3\" class=\"data row2 col3\" >$3.86</td> \n",
       "    </tr>    <tr> \n",
       "        <th id=\"T_83453f38_cf60_11e8_9d32_5cea1d6be82clevel0_row3\" class=\"row_heading level0 row3\" >20-24</th> \n",
       "        <td id=\"T_83453f38_cf60_11e8_9d32_5cea1d6be82crow3_col0\" class=\"data row3 col0\" >365</td> \n",
       "        <td id=\"T_83453f38_cf60_11e8_9d32_5cea1d6be82crow3_col1\" class=\"data row3 col1\" >$3.05</td> \n",
       "        <td id=\"T_83453f38_cf60_11e8_9d32_5cea1d6be82crow3_col2\" class=\"data row3 col2\" >$1114.06</td> \n",
       "        <td id=\"T_83453f38_cf60_11e8_9d32_5cea1d6be82crow3_col3\" class=\"data row3 col3\" >$4.32</td> \n",
       "    </tr>    <tr> \n",
       "        <th id=\"T_83453f38_cf60_11e8_9d32_5cea1d6be82clevel0_row4\" class=\"row_heading level0 row4\" >25-29</th> \n",
       "        <td id=\"T_83453f38_cf60_11e8_9d32_5cea1d6be82crow4_col0\" class=\"data row4 col0\" >101</td> \n",
       "        <td id=\"T_83453f38_cf60_11e8_9d32_5cea1d6be82crow4_col1\" class=\"data row4 col1\" >$2.90</td> \n",
       "        <td id=\"T_83453f38_cf60_11e8_9d32_5cea1d6be82crow4_col2\" class=\"data row4 col2\" >$293.00</td> \n",
       "        <td id=\"T_83453f38_cf60_11e8_9d32_5cea1d6be82crow4_col3\" class=\"data row4 col3\" >$3.81</td> \n",
       "    </tr>    <tr> \n",
       "        <th id=\"T_83453f38_cf60_11e8_9d32_5cea1d6be82clevel0_row5\" class=\"row_heading level0 row5\" >30-34</th> \n",
       "        <td id=\"T_83453f38_cf60_11e8_9d32_5cea1d6be82crow5_col0\" class=\"data row5 col0\" >73</td> \n",
       "        <td id=\"T_83453f38_cf60_11e8_9d32_5cea1d6be82crow5_col1\" class=\"data row5 col1\" >$2.93</td> \n",
       "        <td id=\"T_83453f38_cf60_11e8_9d32_5cea1d6be82crow5_col2\" class=\"data row5 col2\" >$214.00</td> \n",
       "        <td id=\"T_83453f38_cf60_11e8_9d32_5cea1d6be82crow5_col3\" class=\"data row5 col3\" >$4.12</td> \n",
       "    </tr>    <tr> \n",
       "        <th id=\"T_83453f38_cf60_11e8_9d32_5cea1d6be82clevel0_row6\" class=\"row_heading level0 row6\" >34-39</th> \n",
       "        <td id=\"T_83453f38_cf60_11e8_9d32_5cea1d6be82crow6_col0\" class=\"data row6 col0\" >41</td> \n",
       "        <td id=\"T_83453f38_cf60_11e8_9d32_5cea1d6be82crow6_col1\" class=\"data row6 col1\" >$3.60</td> \n",
       "        <td id=\"T_83453f38_cf60_11e8_9d32_5cea1d6be82crow6_col2\" class=\"data row6 col2\" >$147.67</td> \n",
       "        <td id=\"T_83453f38_cf60_11e8_9d32_5cea1d6be82crow6_col3\" class=\"data row6 col3\" >$4.76</td> \n",
       "    </tr>    <tr> \n",
       "        <th id=\"T_83453f38_cf60_11e8_9d32_5cea1d6be82clevel0_row7\" class=\"row_heading level0 row7\" >40+</th> \n",
       "        <td id=\"T_83453f38_cf60_11e8_9d32_5cea1d6be82crow7_col0\" class=\"data row7 col0\" >13</td> \n",
       "        <td id=\"T_83453f38_cf60_11e8_9d32_5cea1d6be82crow7_col1\" class=\"data row7 col1\" >$2.94</td> \n",
       "        <td id=\"T_83453f38_cf60_11e8_9d32_5cea1d6be82crow7_col2\" class=\"data row7 col2\" >$38.24</td> \n",
       "        <td id=\"T_83453f38_cf60_11e8_9d32_5cea1d6be82crow7_col3\" class=\"data row7 col3\" >$3.19</td> \n",
       "    </tr></tbody> \n",
       "</table> "
      ],
      "text/plain": [
       "<pandas.io.formats.style.Styler at 0x23b60dd4550>"
      ]
     },
     "execution_count": 48,
     "metadata": {},
     "output_type": "execute_result"
    }
   ],
   "source": [
    "purchase_10 = purchase_data[purchase_data[\"Age\"] < 10].count()[0]\n",
    "purchase_14 = purchase_data[(purchase_data[\"Age\"] >= 10) & (purchase_data[\"Age\"] <= 14)].count()[0]\n",
    "purchase_19 = purchase_data[(purchase_data[\"Age\"] >= 15) & (purchase_data[\"Age\"] <= 19)].count()[0]\n",
    "purchase_24 = purchase_data[(purchase_data[\"Age\"] >= 20) & (purchase_data[\"Age\"] <= 24)].count()[0]\n",
    "purchase_29 = purchase_data[(purchase_data[\"Age\"] >= 25) & (purchase_data[\"Age\"] <= 29)].count()[0]\n",
    "purchase_34 = purchase_data[(purchase_data[\"Age\"] >= 30) & (purchase_data[\"Age\"] <= 34)].count()[0]\n",
    "purchase_39 = purchase_data[(purchase_data[\"Age\"] >= 35) & (purchase_data[\"Age\"] <= 39)].count()[0]\n",
    "purchase_40 = purchase_data[purchase_data[\"Age\"] >= 40].count()[0]\n",
    "purchases_a = [purchase_10, purchase_14, purchase_19, purchase_24, purchase_29, purchase_34, purchase_39, purchase_40]\n",
    "\n",
    "total_10 = purchase_data.loc[purchase_data['Age'] < 10, 'Price'].sum()\n",
    "total_14 = purchase_data.loc[(purchase_data['Age'] >= 10) & (purchase_data['Age'] <=14), 'Price'].sum()\n",
    "total_19 = purchase_data.loc[(purchase_data['Age'] >= 15) & (purchase_data['Age'] <=19), 'Price'].sum()\n",
    "total_24 = purchase_data.loc[(purchase_data['Age'] >= 20) & (purchase_data['Age'] <=24), 'Price'].sum()\n",
    "total_29 = purchase_data.loc[(purchase_data['Age'] >= 25) & (purchase_data['Age'] <=29), 'Price'].sum()\n",
    "total_34 = purchase_data.loc[(purchase_data['Age'] >= 30) & (purchase_data['Age'] <=34), 'Price'].sum()\n",
    "total_39 = purchase_data.loc[(purchase_data['Age'] >= 35) & (purchase_data['Age'] <=39), 'Price'].sum()\n",
    "total_40 = purchase_data.loc[purchase_data['Age'] >= 40, 'Price'].sum()\n",
    "totals_a = [total_10, total_14, total_19, total_24, total_29, total_34, total_39, total_40]\n",
    "avg_price_a = [total_10/purchase_10, total_14/purchase_14, total_19/purchase_19, total_24/purchase_24, total_29/purchase_29,\n",
    "              total_34/purchase_34, total_39/purchase_39, total_40/purchase_40]\n",
    "norms_a = [total_10/age_10, total_14/age_14, total_19/age_19, total_24/age_24, total_29/age_29, total_34/age_34,\n",
    "           total_39/age_39, total_40/age_40]\n",
    "puchase_analysis_a = {\n",
    "    \"Purchase Count\": purchases_a,\n",
    "    \"Average Purchase Price\": avg_price_a,\n",
    "    \"Total Purchase Value\": totals_a,\n",
    "    \"Normalized Totals\": norms_a}\n",
    "purchase_analysis_a_df = pd.DataFrame(puchase_analysis_a)\n",
    "purchase_analysis_a_df = purchase_analysis_a_df[['Purchase Count', 'Average Purchase Price', 'Total Purchase Value','Normalized Totals']]\n",
    "purchase_analysis_a_df.index = ([\"<10\", \"10-14\",\"15-19\",\"20-24\",\"25-29\",\"30-34\",\"34-39\",\"40+\"])\n",
    "purchase_analysis_a_df.style.format({\"Average Purchase Price\": \"${:.2f}\", \"Normalized Totals\": \"${:.2f}\",\"Total Purchase Value\":\"${:.2f}\"})"
   ]
  },
  {
   "cell_type": "markdown",
   "metadata": {},
   "source": [
    "## Top Spenders"
   ]
  },
  {
   "cell_type": "markdown",
   "metadata": {},
   "source": [
    "* Run basic calculations to obtain the results in the table below\n",
    "\n",
    "\n",
    "* Create a summary data frame to hold the results\n",
    "\n",
    "\n",
    "* Sort the total purchase value column in descending order\n",
    "\n",
    "\n",
    "* Optional: give the displayed data cleaner formatting\n",
    "\n",
    "\n",
    "* Display a preview of the summary data frame\n",
    "\n"
   ]
  },
  {
   "cell_type": "code",
   "execution_count": 14,
   "metadata": {},
   "outputs": [
    {
     "data": {
      "text/html": [
       "<style  type=\"text/css\" >\n",
       "</style>  \n",
       "<table id=\"T_61c66dac_cf2b_11e8_afb9_5cea1d6be82c\" > \n",
       "<thead>    <tr> \n",
       "        <th class=\"blank level0\" ></th> \n",
       "        <th class=\"col_heading level0 col0\" >Total Purchase Value</th> \n",
       "        <th class=\"col_heading level0 col1\" >Purchase Count</th> \n",
       "        <th class=\"col_heading level0 col2\" >Average Purchase Price</th> \n",
       "    </tr>    <tr> \n",
       "        <th class=\"index_name level0\" >SN</th> \n",
       "        <th class=\"blank\" ></th> \n",
       "        <th class=\"blank\" ></th> \n",
       "        <th class=\"blank\" ></th> \n",
       "    </tr></thead> \n",
       "<tbody>    <tr> \n",
       "        <th id=\"T_61c66dac_cf2b_11e8_afb9_5cea1d6be82clevel0_row0\" class=\"row_heading level0 row0\" >Lisosia93</th> \n",
       "        <td id=\"T_61c66dac_cf2b_11e8_afb9_5cea1d6be82crow0_col0\" class=\"data row0 col0\" >$18.96</td> \n",
       "        <td id=\"T_61c66dac_cf2b_11e8_afb9_5cea1d6be82crow0_col1\" class=\"data row0 col1\" >5</td> \n",
       "        <td id=\"T_61c66dac_cf2b_11e8_afb9_5cea1d6be82crow0_col2\" class=\"data row0 col2\" >$3.79</td> \n",
       "    </tr>    <tr> \n",
       "        <th id=\"T_61c66dac_cf2b_11e8_afb9_5cea1d6be82clevel0_row1\" class=\"row_heading level0 row1\" >Idastidru52</th> \n",
       "        <td id=\"T_61c66dac_cf2b_11e8_afb9_5cea1d6be82crow1_col0\" class=\"data row1 col0\" >$15.45</td> \n",
       "        <td id=\"T_61c66dac_cf2b_11e8_afb9_5cea1d6be82crow1_col1\" class=\"data row1 col1\" >4</td> \n",
       "        <td id=\"T_61c66dac_cf2b_11e8_afb9_5cea1d6be82crow1_col2\" class=\"data row1 col2\" >$3.86</td> \n",
       "    </tr>    <tr> \n",
       "        <th id=\"T_61c66dac_cf2b_11e8_afb9_5cea1d6be82clevel0_row2\" class=\"row_heading level0 row2\" >Chamjask73</th> \n",
       "        <td id=\"T_61c66dac_cf2b_11e8_afb9_5cea1d6be82crow2_col0\" class=\"data row2 col0\" >$13.83</td> \n",
       "        <td id=\"T_61c66dac_cf2b_11e8_afb9_5cea1d6be82crow2_col1\" class=\"data row2 col1\" >3</td> \n",
       "        <td id=\"T_61c66dac_cf2b_11e8_afb9_5cea1d6be82crow2_col2\" class=\"data row2 col2\" >$4.61</td> \n",
       "    </tr>    <tr> \n",
       "        <th id=\"T_61c66dac_cf2b_11e8_afb9_5cea1d6be82clevel0_row3\" class=\"row_heading level0 row3\" >Iral74</th> \n",
       "        <td id=\"T_61c66dac_cf2b_11e8_afb9_5cea1d6be82crow3_col0\" class=\"data row3 col0\" >$13.62</td> \n",
       "        <td id=\"T_61c66dac_cf2b_11e8_afb9_5cea1d6be82crow3_col1\" class=\"data row3 col1\" >4</td> \n",
       "        <td id=\"T_61c66dac_cf2b_11e8_afb9_5cea1d6be82crow3_col2\" class=\"data row3 col2\" >$3.40</td> \n",
       "    </tr>    <tr> \n",
       "        <th id=\"T_61c66dac_cf2b_11e8_afb9_5cea1d6be82clevel0_row4\" class=\"row_heading level0 row4\" >Iskadarya95</th> \n",
       "        <td id=\"T_61c66dac_cf2b_11e8_afb9_5cea1d6be82crow4_col0\" class=\"data row4 col0\" >$13.10</td> \n",
       "        <td id=\"T_61c66dac_cf2b_11e8_afb9_5cea1d6be82crow4_col1\" class=\"data row4 col1\" >3</td> \n",
       "        <td id=\"T_61c66dac_cf2b_11e8_afb9_5cea1d6be82crow4_col2\" class=\"data row4 col2\" >$4.37</td> \n",
       "    </tr></tbody> \n",
       "</table> "
      ],
      "text/plain": [
       "<pandas.io.formats.style.Styler at 0x23b60adcf60>"
      ]
     },
     "execution_count": 14,
     "metadata": {},
     "output_type": "execute_result"
    }
   ],
   "source": [
    "purchase_amt_by_SN = pd.DataFrame(purchase_data.groupby('SN')['Price'].sum())\n",
    "num_purchase_by_SN = pd.DataFrame(purchase_data.groupby('SN')['Price'].count())\n",
    "avg_purchase_by_SN = pd.DataFrame(purchase_data.groupby('SN')['Price'].mean())\n",
    "merged_top5 = pd.merge(purchase_amt_by_SN, num_purchase_by_SN, left_index = True, right_index = True).merge(avg_purchase_by_SN, left_index=True, right_index=True)\n",
    "merged_top5.rename(columns = {'Price_x': 'Total Purchase Value', 'Price_y':'Purchase Count', 'Price':'Average Purchase Price'}, inplace = True)\n",
    "merged_top5.sort_values('Total Purchase Value', ascending = False, inplace=True)\n",
    "merged_top5 = merged_top5.head()\n",
    "merged_top5.style.format({'Total Purchase Value': '${:.2f}', 'Average Purchase Price': '${:.2f}'})"
   ]
  },
  {
   "cell_type": "markdown",
   "metadata": {},
   "source": [
    "## Most Popular Items"
   ]
  },
  {
   "cell_type": "markdown",
   "metadata": {},
   "source": [
    "* Retrieve the Item ID, Item Name, and Item Price columns\n",
    "\n",
    "\n",
    "* Group by Item ID and Item Name. Perform calculations to obtain purchase count, item price, and total purchase value\n",
    "\n",
    "\n",
    "* Create a summary data frame to hold the results\n",
    "\n",
    "\n",
    "* Sort the purchase count column in descending order\n",
    "\n",
    "\n",
    "* Optional: give the displayed data cleaner formatting\n",
    "\n",
    "\n",
    "* Display a preview of the summary data frame\n",
    "\n"
   ]
  },
  {
   "cell_type": "code",
   "execution_count": 15,
   "metadata": {},
   "outputs": [
    {
     "name": "stderr",
     "output_type": "stream",
     "text": [
      "C:\\Users\\Anna\\Anaconda3\\lib\\site-packages\\ipykernel_launcher.py:2: FutureWarning: 'Item ID' is both an index level and a column label.\n",
      "Defaulting to column, but this will raise an ambiguity error in a future version\n",
      "  \n"
     ]
    },
    {
     "data": {
      "text/html": [
       "<div>\n",
       "<style scoped>\n",
       "    .dataframe tbody tr th:only-of-type {\n",
       "        vertical-align: middle;\n",
       "    }\n",
       "\n",
       "    .dataframe tbody tr th {\n",
       "        vertical-align: top;\n",
       "    }\n",
       "\n",
       "    .dataframe thead th {\n",
       "        text-align: right;\n",
       "    }\n",
       "</style>\n",
       "<table border=\"1\" class=\"dataframe\">\n",
       "  <thead>\n",
       "    <tr style=\"text-align: right;\">\n",
       "      <th></th>\n",
       "      <th>Item Name</th>\n",
       "      <th>Purchase Count</th>\n",
       "      <th>Item Price</th>\n",
       "      <th>Total Purchase Value</th>\n",
       "    </tr>\n",
       "    <tr>\n",
       "      <th>Item ID</th>\n",
       "      <th></th>\n",
       "      <th></th>\n",
       "      <th></th>\n",
       "      <th></th>\n",
       "    </tr>\n",
       "  </thead>\n",
       "  <tbody>\n",
       "    <tr>\n",
       "      <th>178</th>\n",
       "      <td>Oathbreaker, Last Hope of the Breaking Storm</td>\n",
       "      <td>12</td>\n",
       "      <td>4.23</td>\n",
       "      <td>50.76</td>\n",
       "    </tr>\n",
       "    <tr>\n",
       "      <th>145</th>\n",
       "      <td>Fiery Glass Crusader</td>\n",
       "      <td>9</td>\n",
       "      <td>4.58</td>\n",
       "      <td>41.22</td>\n",
       "    </tr>\n",
       "    <tr>\n",
       "      <th>108</th>\n",
       "      <td>Extraction, Quickblade Of Trembling Hands</td>\n",
       "      <td>9</td>\n",
       "      <td>3.53</td>\n",
       "      <td>31.77</td>\n",
       "    </tr>\n",
       "    <tr>\n",
       "      <th>82</th>\n",
       "      <td>Nirvana</td>\n",
       "      <td>9</td>\n",
       "      <td>4.90</td>\n",
       "      <td>44.10</td>\n",
       "    </tr>\n",
       "    <tr>\n",
       "      <th>19</th>\n",
       "      <td>Pursuit, Cudgel of Necromancy</td>\n",
       "      <td>8</td>\n",
       "      <td>1.02</td>\n",
       "      <td>8.16</td>\n",
       "    </tr>\n",
       "  </tbody>\n",
       "</table>\n",
       "</div>"
      ],
      "text/plain": [
       "                                            Item Name  Purchase Count  \\\n",
       "Item ID                                                                 \n",
       "178      Oathbreaker, Last Hope of the Breaking Storm              12   \n",
       "145                              Fiery Glass Crusader               9   \n",
       "108         Extraction, Quickblade Of Trembling Hands               9   \n",
       "82                                            Nirvana               9   \n",
       "19                      Pursuit, Cudgel of Necromancy               8   \n",
       "\n",
       "         Item Price  Total Purchase Value  \n",
       "Item ID                                    \n",
       "178            4.23                 50.76  \n",
       "145            4.58                 41.22  \n",
       "108            3.53                 31.77  \n",
       "82             4.90                 44.10  \n",
       "19             1.02                  8.16  "
      ]
     },
     "execution_count": 15,
     "metadata": {},
     "output_type": "execute_result"
    }
   ],
   "source": [
    "top5_items_ID = pd.DataFrame(purchase_data.groupby('Item ID')['Item ID'].count())\n",
    "top5_items_ID.sort_values('Item ID', ascending = False, inplace = True)\n",
    "top5_items_ID = top5_items_ID.iloc[0:6][:]\n",
    "top5_items_total = pd.DataFrame(purchase_data.groupby('Item ID')['Price'].sum())\n",
    "top5_items = pd.merge(top5_items_ID, top5_items_total, left_index = True, right_index = True)\n",
    "no_dup_items = purchase_data.drop_duplicates(['Item ID'], keep = 'last')\n",
    "top5_merge_ID = pd.merge(top5_items, no_dup_items, left_index = True, right_on = 'Item ID')\n",
    "top5_merge_ID = top5_merge_ID[['Item ID', 'Item Name', 'Item ID_x', 'Price_y', 'Price_x']]\n",
    "top5_merge_ID.set_index(['Item ID'], inplace = True)\n",
    "top5_merge_ID.rename(columns =  {'Item ID_x': 'Purchase Count', 'Price_y': 'Item Price', 'Price_x': 'Total Purchase Value'}, inplace=True)\n",
    "top5_merge_ID.style.format({'Item Price': '${:.2f}', 'Total Purchase Value': '${:.2f}'})\n",
    "top5_merge_ID.head()"
   ]
  },
  {
   "cell_type": "markdown",
   "metadata": {},
   "source": [
    "## Most Profitable Items"
   ]
  },
  {
   "cell_type": "markdown",
   "metadata": {},
   "source": [
    "* Sort the above table by total purchase value in descending order\n",
    "\n",
    "\n",
    "* Optional: give the displayed data cleaner formatting\n",
    "\n",
    "\n",
    "* Display a preview of the data frame\n",
    "\n"
   ]
  },
  {
   "cell_type": "code",
   "execution_count": 16,
   "metadata": {
    "scrolled": true
   },
   "outputs": [
    {
     "data": {
      "text/html": [
       "<style  type=\"text/css\" >\n",
       "</style>  \n",
       "<table id=\"T_63eb6ad4_cf2b_11e8_9dc7_5cea1d6be82c\" > \n",
       "<thead>    <tr> \n",
       "        <th class=\"blank level0\" ></th> \n",
       "        <th class=\"col_heading level0 col0\" >Item Name</th> \n",
       "        <th class=\"col_heading level0 col1\" >Purchase Count</th> \n",
       "        <th class=\"col_heading level0 col2\" >Item Price</th> \n",
       "        <th class=\"col_heading level0 col3\" >Total Purchase Value</th> \n",
       "    </tr>    <tr> \n",
       "        <th class=\"index_name level0\" >Item ID</th> \n",
       "        <th class=\"blank\" ></th> \n",
       "        <th class=\"blank\" ></th> \n",
       "        <th class=\"blank\" ></th> \n",
       "        <th class=\"blank\" ></th> \n",
       "    </tr></thead> \n",
       "<tbody>    <tr> \n",
       "        <th id=\"T_63eb6ad4_cf2b_11e8_9dc7_5cea1d6be82clevel0_row0\" class=\"row_heading level0 row0\" >178</th> \n",
       "        <td id=\"T_63eb6ad4_cf2b_11e8_9dc7_5cea1d6be82crow0_col0\" class=\"data row0 col0\" >Oathbreaker, Last Hope of the Breaking Storm</td> \n",
       "        <td id=\"T_63eb6ad4_cf2b_11e8_9dc7_5cea1d6be82crow0_col1\" class=\"data row0 col1\" >12</td> \n",
       "        <td id=\"T_63eb6ad4_cf2b_11e8_9dc7_5cea1d6be82crow0_col2\" class=\"data row0 col2\" >$4.23</td> \n",
       "        <td id=\"T_63eb6ad4_cf2b_11e8_9dc7_5cea1d6be82crow0_col3\" class=\"data row0 col3\" >$50.76</td> \n",
       "    </tr>    <tr> \n",
       "        <th id=\"T_63eb6ad4_cf2b_11e8_9dc7_5cea1d6be82clevel0_row1\" class=\"row_heading level0 row1\" >82</th> \n",
       "        <td id=\"T_63eb6ad4_cf2b_11e8_9dc7_5cea1d6be82crow1_col0\" class=\"data row1 col0\" >Nirvana</td> \n",
       "        <td id=\"T_63eb6ad4_cf2b_11e8_9dc7_5cea1d6be82crow1_col1\" class=\"data row1 col1\" >9</td> \n",
       "        <td id=\"T_63eb6ad4_cf2b_11e8_9dc7_5cea1d6be82crow1_col2\" class=\"data row1 col2\" >$4.90</td> \n",
       "        <td id=\"T_63eb6ad4_cf2b_11e8_9dc7_5cea1d6be82crow1_col3\" class=\"data row1 col3\" >$44.10</td> \n",
       "    </tr>    <tr> \n",
       "        <th id=\"T_63eb6ad4_cf2b_11e8_9dc7_5cea1d6be82clevel0_row2\" class=\"row_heading level0 row2\" >145</th> \n",
       "        <td id=\"T_63eb6ad4_cf2b_11e8_9dc7_5cea1d6be82crow2_col0\" class=\"data row2 col0\" >Fiery Glass Crusader</td> \n",
       "        <td id=\"T_63eb6ad4_cf2b_11e8_9dc7_5cea1d6be82crow2_col1\" class=\"data row2 col1\" >9</td> \n",
       "        <td id=\"T_63eb6ad4_cf2b_11e8_9dc7_5cea1d6be82crow2_col2\" class=\"data row2 col2\" >$4.58</td> \n",
       "        <td id=\"T_63eb6ad4_cf2b_11e8_9dc7_5cea1d6be82crow2_col3\" class=\"data row2 col3\" >$41.22</td> \n",
       "    </tr>    <tr> \n",
       "        <th id=\"T_63eb6ad4_cf2b_11e8_9dc7_5cea1d6be82clevel0_row3\" class=\"row_heading level0 row3\" >92</th> \n",
       "        <td id=\"T_63eb6ad4_cf2b_11e8_9dc7_5cea1d6be82crow3_col0\" class=\"data row3 col0\" >Final Critic</td> \n",
       "        <td id=\"T_63eb6ad4_cf2b_11e8_9dc7_5cea1d6be82crow3_col1\" class=\"data row3 col1\" >8</td> \n",
       "        <td id=\"T_63eb6ad4_cf2b_11e8_9dc7_5cea1d6be82crow3_col2\" class=\"data row3 col2\" >$4.88</td> \n",
       "        <td id=\"T_63eb6ad4_cf2b_11e8_9dc7_5cea1d6be82crow3_col3\" class=\"data row3 col3\" >$39.04</td> \n",
       "    </tr>    <tr> \n",
       "        <th id=\"T_63eb6ad4_cf2b_11e8_9dc7_5cea1d6be82clevel0_row4\" class=\"row_heading level0 row4\" >103</th> \n",
       "        <td id=\"T_63eb6ad4_cf2b_11e8_9dc7_5cea1d6be82crow4_col0\" class=\"data row4 col0\" >Singed Scalpel</td> \n",
       "        <td id=\"T_63eb6ad4_cf2b_11e8_9dc7_5cea1d6be82crow4_col1\" class=\"data row4 col1\" >8</td> \n",
       "        <td id=\"T_63eb6ad4_cf2b_11e8_9dc7_5cea1d6be82crow4_col2\" class=\"data row4 col2\" >$4.35</td> \n",
       "        <td id=\"T_63eb6ad4_cf2b_11e8_9dc7_5cea1d6be82crow4_col3\" class=\"data row4 col3\" >$34.80</td> \n",
       "    </tr></tbody> \n",
       "</table> "
      ],
      "text/plain": [
       "<pandas.io.formats.style.Styler at 0x23b5c26bd68>"
      ]
     },
     "execution_count": 16,
     "metadata": {},
     "output_type": "execute_result"
    }
   ],
   "source": [
    "top5_profit = pd.DataFrame(purchase_data.groupby('Item ID')['Price'].sum())\n",
    "top5_profit.sort_values('Price', ascending = False, inplace = True)\n",
    "top5_profit = top5_profit.iloc[0:5][:]\n",
    "pur_count_profit = pd.DataFrame(purchase_data.groupby('Item ID')['Item ID'].count())\n",
    "top5_profit = pd.merge(top5_profit, pur_count_profit, left_index = True, right_index = True, how = 'left')\n",
    "top5_merge_profit = pd.merge(top5_profit, no_dup_items, left_index = True, right_on = 'Item ID', how = 'left')\n",
    "top5_merge_profit = top5_merge_profit[['Item ID', 'Item Name', 'Item ID_x', 'Price_y','Price_x']]\n",
    "top5_merge_profit.set_index(['Item ID'], inplace=True)\n",
    "top5_merge_profit.rename(columns = {'Item ID_x': 'Purchase Count', 'Price_y': 'Item Price', 'Price_x': 'Total Purchase Value'}, inplace = True)\n",
    "top5_merge_profit.style.format({'Item Price': '${:.2f}', 'Total Purchase Value': '${:.2f}'})"
   ]
  },
  {
   "cell_type": "code",
   "execution_count": null,
   "metadata": {},
   "outputs": [],
   "source": []
  }
 ],
 "metadata": {
  "anaconda-cloud": {},
  "kernel_info": {
   "name": "python3"
  },
  "kernelspec": {
   "display_name": "Python 3",
   "language": "python",
   "name": "python3"
  },
  "language_info": {
   "codemirror_mode": {
    "name": "ipython",
    "version": 3
   },
   "file_extension": ".py",
   "mimetype": "text/x-python",
   "name": "python",
   "nbconvert_exporter": "python",
   "pygments_lexer": "ipython3",
   "version": "3.6.5"
  },
  "nteract": {
   "version": "0.2.0"
  }
 },
 "nbformat": 4,
 "nbformat_minor": 2
}
