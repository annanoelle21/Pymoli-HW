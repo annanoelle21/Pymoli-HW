{
 "cells": [
  {
   "cell_type": "markdown",
   "metadata": {},
   "source": [
    "### Heroes Of Pymoli Data Analysis\n",
    "* Of the 1163 active players, the vast majority are male (84%). There also exists, a smaller, but notable proportion of female players (14%).\n",
    "\n",
    "* Our peak age demographic falls between 20-24 (44.8%) with secondary groups falling between 15-19 (18.60%) and 25-29 (13.4%).  \n",
    "-----"
   ]
  },
  {
   "cell_type": "markdown",
   "metadata": {},
   "source": [
    "### Note\n",
    "* Instructions have been included for each segment. You do not have to follow them exactly, but they are included to help you think through the steps."
   ]
  },
  {
   "cell_type": "code",
   "execution_count": 3,
   "metadata": {},
   "outputs": [],
   "source": [
    "# Dependencies and Setup\n",
    "import pandas as pd\n",
    "import numpy as np\n",
    "\n",
    "# File to Load (Remember to Change These)\n",
    "file_to_load = \"Resources/purchase_data.csv\"\n",
    "\n",
    "# Read Purchasing File and store into Pandas data frame\n",
    "purchase_data = pd.read_csv(file_to_load)"
   ]
  },
  {
   "cell_type": "markdown",
   "metadata": {},
   "source": [
    "## Player Count"
   ]
  },
  {
   "cell_type": "markdown",
   "metadata": {},
   "source": [
    "* Display the total number of players\n"
   ]
  },
  {
   "cell_type": "code",
   "execution_count": 5,
   "metadata": {},
   "outputs": [
    {
     "data": {
      "text/html": [
       "<div>\n",
       "<style scoped>\n",
       "    .dataframe tbody tr th:only-of-type {\n",
       "        vertical-align: middle;\n",
       "    }\n",
       "\n",
       "    .dataframe tbody tr th {\n",
       "        vertical-align: top;\n",
       "    }\n",
       "\n",
       "    .dataframe thead th {\n",
       "        text-align: right;\n",
       "    }\n",
       "</style>\n",
       "<table border=\"1\" class=\"dataframe\">\n",
       "  <thead>\n",
       "    <tr style=\"text-align: right;\">\n",
       "      <th></th>\n",
       "    </tr>\n",
       "    <tr>\n",
       "      <th>Total Players</th>\n",
       "    </tr>\n",
       "  </thead>\n",
       "  <tbody>\n",
       "    <tr>\n",
       "      <th>576</th>\n",
       "    </tr>\n",
       "  </tbody>\n",
       "</table>\n",
       "</div>"
      ],
      "text/plain": [
       "Empty DataFrame\n",
       "Columns: []\n",
       "Index: [576]"
      ]
     },
     "execution_count": 5,
     "metadata": {},
     "output_type": "execute_result"
    }
   ],
   "source": [
    "player_count = len(purchase_data['SN'].unique())\n",
    "\n",
    "players_df = pd.DataFrame([{'Total Players': player_count}]) \n",
    "players_df.set_index('Total Players', inplace = True)\n",
    "players_df"
   ]
  },
  {
   "cell_type": "markdown",
   "metadata": {},
   "source": [
    "## Purchasing Analysis (Total)"
   ]
  },
  {
   "cell_type": "markdown",
   "metadata": {},
   "source": [
    "* Run basic calculations to obtain number of unique items, average price, etc.\n",
    "\n",
    "\n",
    "* Create a summary data frame to hold the results\n",
    "\n",
    "\n",
    "* Optional: give the displayed data cleaner formatting\n",
    "\n",
    "\n",
    "* Display the summary data frame\n"
   ]
  },
  {
   "cell_type": "code",
   "execution_count": 9,
   "metadata": {
    "scrolled": true
   },
   "outputs": [
    {
     "data": {
      "text/html": [
       "<style  type=\"text/css\" >\n",
       "</style>  \n",
       "<table id=\"T_c660474c_cf07_11e8_89e6_5cea1d6be82c\" > \n",
       "<thead>    <tr> \n",
       "        <th class=\"blank level0\" ></th> \n",
       "        <th class=\"col_heading level0 col0\" >Average Purchase Price</th> \n",
       "        <th class=\"col_heading level0 col1\" >Number of Unique Items</th> \n",
       "        <th class=\"col_heading level0 col2\" >Total Purchases</th> \n",
       "        <th class=\"col_heading level0 col3\" >Total Revenue</th> \n",
       "    </tr></thead> \n",
       "<tbody>    <tr> \n",
       "        <th id=\"T_c660474c_cf07_11e8_89e6_5cea1d6be82clevel0_row0\" class=\"row_heading level0 row0\" >0</th> \n",
       "        <td id=\"T_c660474c_cf07_11e8_89e6_5cea1d6be82crow0_col0\" class=\"data row0 col0\" >$3.05</td> \n",
       "        <td id=\"T_c660474c_cf07_11e8_89e6_5cea1d6be82crow0_col1\" class=\"data row0 col1\" >183</td> \n",
       "        <td id=\"T_c660474c_cf07_11e8_89e6_5cea1d6be82crow0_col2\" class=\"data row0 col2\" >780</td> \n",
       "        <td id=\"T_c660474c_cf07_11e8_89e6_5cea1d6be82crow0_col3\" class=\"data row0 col3\" >$2,379.77</td> \n",
       "    </tr></tbody> \n",
       "</table> "
      ],
      "text/plain": [
       "<pandas.io.formats.style.Styler at 0x1e6940ede48>"
      ]
     },
     "execution_count": 9,
     "metadata": {},
     "output_type": "execute_result"
    }
   ],
   "source": [
    "no_dup_items = purchase_data.drop_duplicates(['Item ID'], keep = 'last')\n",
    "total_unique = len(no_dup_items)\n",
    "total_pur = purchase_data['Price'].count()\n",
    "total_rev = round(purchase_data['Price'].sum(),2)\n",
    "avg_price = round(total_rev/total_pur, 2)\n",
    "\n",
    "pur_analysis = pd.DataFrame([{\n",
    "    \n",
    "    \"Number of Unique Items\": total_unique,\n",
    "    'Average Purchase Price': avg_price,\n",
    "    'Total Purchases': total_pur,\n",
    "    'Total Revenue': total_rev\n",
    "}])\n",
    "\n",
    "pur_analysis.style.format({'Average Purchase Price': '${:.2f}', 'Total Revenue': '${:,.2f}'})"
   ]
  },
  {
   "cell_type": "markdown",
   "metadata": {},
   "source": [
    "## Gender Demographics"
   ]
  },
  {
   "cell_type": "markdown",
   "metadata": {},
   "source": [
    "* Percentage and Count of Male Players\n",
    "\n",
    "\n",
    "* Percentage and Count of Female Players\n",
    "\n",
    "\n",
    "* Percentage and Count of Other / Non-Disclosed\n",
    "\n",
    "\n"
   ]
  },
  {
   "cell_type": "code",
   "execution_count": 10,
   "metadata": {},
   "outputs": [
    {
     "data": {
      "text/html": [
       "<style  type=\"text/css\" >\n",
       "</style>  \n",
       "<table id=\"T_e490fada_cf07_11e8_a6c5_5cea1d6be82c\" > \n",
       "<thead>    <tr> \n",
       "        <th class=\"blank level0\" ></th> \n",
       "        <th class=\"col_heading level0 col0\" ># of Players</th> \n",
       "        <th class=\"col_heading level0 col1\" >% of Players</th> \n",
       "    </tr>    <tr> \n",
       "        <th class=\"index_name level0\" >Gender</th> \n",
       "        <th class=\"blank\" ></th> \n",
       "        <th class=\"blank\" ></th> \n",
       "    </tr></thead> \n",
       "<tbody>    <tr> \n",
       "        <th id=\"T_e490fada_cf07_11e8_a6c5_5cea1d6be82clevel0_row0\" class=\"row_heading level0 row0\" >Male</th> \n",
       "        <td id=\"T_e490fada_cf07_11e8_a6c5_5cea1d6be82crow0_col0\" class=\"data row0 col0\" >484</td> \n",
       "        <td id=\"T_e490fada_cf07_11e8_a6c5_5cea1d6be82crow0_col1\" class=\"data row0 col1\" >84.0%</td> \n",
       "    </tr>    <tr> \n",
       "        <th id=\"T_e490fada_cf07_11e8_a6c5_5cea1d6be82clevel0_row1\" class=\"row_heading level0 row1\" >Female</th> \n",
       "        <td id=\"T_e490fada_cf07_11e8_a6c5_5cea1d6be82crow1_col0\" class=\"data row1 col0\" >81</td> \n",
       "        <td id=\"T_e490fada_cf07_11e8_a6c5_5cea1d6be82crow1_col1\" class=\"data row1 col1\" >14.1%</td> \n",
       "    </tr>    <tr> \n",
       "        <th id=\"T_e490fada_cf07_11e8_a6c5_5cea1d6be82clevel0_row2\" class=\"row_heading level0 row2\" >Other / Non-Disclosed</th> \n",
       "        <td id=\"T_e490fada_cf07_11e8_a6c5_5cea1d6be82crow2_col0\" class=\"data row2 col0\" >11</td> \n",
       "        <td id=\"T_e490fada_cf07_11e8_a6c5_5cea1d6be82crow2_col1\" class=\"data row2 col1\" >1.9%</td> \n",
       "    </tr></tbody> \n",
       "</table> "
      ],
      "text/plain": [
       "<pandas.io.formats.style.Styler at 0x1e694f86898>"
      ]
     },
     "execution_count": 10,
     "metadata": {},
     "output_type": "execute_result"
    }
   ],
   "source": [
    "no_dup_players = purchase_data.drop_duplicates(['SN'], keep ='last')\n",
    "gender_counts = no_dup_players['Gender'].value_counts().reset_index()\n",
    "gender_counts['% of Players'] = gender_counts['Gender']/player_count * 100\n",
    "gender_counts.rename(columns = {'index': 'Gender', 'Gender': '# of Players'}, inplace = True)\n",
    "gender_counts.set_index(['Gender'], inplace = True)\n",
    "gender_counts.style.format({\"% of Players\": \"{:.1f}%\"})"
   ]
  },
  {
   "cell_type": "markdown",
   "metadata": {},
   "source": [
    "\n",
    "## Purchasing Analysis (Gender)"
   ]
  },
  {
   "cell_type": "markdown",
   "metadata": {},
   "source": [
    "* Run basic calculations to obtain purchase count, avg. purchase price, avg. purchase total per person etc. by gender\n",
    "\n",
    "\n",
    "\n",
    "\n",
    "* Create a summary data frame to hold the results\n",
    "\n",
    "\n",
    "* Optional: give the displayed data cleaner formatting\n",
    "\n",
    "\n",
    "* Display the summary data frame"
   ]
  },
  {
   "cell_type": "code",
   "execution_count": 11,
   "metadata": {},
   "outputs": [
    {
     "data": {
      "text/html": [
       "<style  type=\"text/css\" >\n",
       "</style>  \n",
       "<table id=\"T_466b3286_cf08_11e8_abfd_5cea1d6be82c\" > \n",
       "<thead>    <tr> \n",
       "        <th class=\"blank level0\" ></th> \n",
       "        <th class=\"col_heading level0 col0\" ># of Purchases</th> \n",
       "        <th class=\"col_heading level0 col1\" >Total Purchase Value</th> \n",
       "        <th class=\"col_heading level0 col2\" >Average Purchase Price</th> \n",
       "        <th class=\"col_heading level0 col3\" >Normalized Totals</th> \n",
       "    </tr>    <tr> \n",
       "        <th class=\"index_name level0\" >Gender</th> \n",
       "        <th class=\"blank\" ></th> \n",
       "        <th class=\"blank\" ></th> \n",
       "        <th class=\"blank\" ></th> \n",
       "        <th class=\"blank\" ></th> \n",
       "    </tr></thead> \n",
       "<tbody>    <tr> \n",
       "        <th id=\"T_466b3286_cf08_11e8_abfd_5cea1d6be82clevel0_row0\" class=\"row_heading level0 row0\" >Female</th> \n",
       "        <td id=\"T_466b3286_cf08_11e8_abfd_5cea1d6be82crow0_col0\" class=\"data row0 col0\" >113</td> \n",
       "        <td id=\"T_466b3286_cf08_11e8_abfd_5cea1d6be82crow0_col1\" class=\"data row0 col1\" >$361.94</td> \n",
       "        <td id=\"T_466b3286_cf08_11e8_abfd_5cea1d6be82crow0_col2\" class=\"data row0 col2\" >$3.20</td> \n",
       "        <td id=\"T_466b3286_cf08_11e8_abfd_5cea1d6be82crow0_col3\" class=\"data row0 col3\" >$4.47</td> \n",
       "    </tr>    <tr> \n",
       "        <th id=\"T_466b3286_cf08_11e8_abfd_5cea1d6be82clevel0_row1\" class=\"row_heading level0 row1\" >Male</th> \n",
       "        <td id=\"T_466b3286_cf08_11e8_abfd_5cea1d6be82crow1_col0\" class=\"data row1 col0\" >652</td> \n",
       "        <td id=\"T_466b3286_cf08_11e8_abfd_5cea1d6be82crow1_col1\" class=\"data row1 col1\" >$1967.64</td> \n",
       "        <td id=\"T_466b3286_cf08_11e8_abfd_5cea1d6be82crow1_col2\" class=\"data row1 col2\" >$3.02</td> \n",
       "        <td id=\"T_466b3286_cf08_11e8_abfd_5cea1d6be82crow1_col3\" class=\"data row1 col3\" >$4.07</td> \n",
       "    </tr>    <tr> \n",
       "        <th id=\"T_466b3286_cf08_11e8_abfd_5cea1d6be82clevel0_row2\" class=\"row_heading level0 row2\" >Other / Non-Disclosed</th> \n",
       "        <td id=\"T_466b3286_cf08_11e8_abfd_5cea1d6be82crow2_col0\" class=\"data row2 col0\" >15</td> \n",
       "        <td id=\"T_466b3286_cf08_11e8_abfd_5cea1d6be82crow2_col1\" class=\"data row2 col1\" >$50.19</td> \n",
       "        <td id=\"T_466b3286_cf08_11e8_abfd_5cea1d6be82crow2_col2\" class=\"data row2 col2\" >$3.35</td> \n",
       "        <td id=\"T_466b3286_cf08_11e8_abfd_5cea1d6be82crow2_col3\" class=\"data row2 col3\" >$4.56</td> \n",
       "    </tr></tbody> \n",
       "</table> "
      ],
      "text/plain": [
       "<pandas.io.formats.style.Styler at 0x1e695009b38>"
      ]
     },
     "execution_count": 11,
     "metadata": {},
     "output_type": "execute_result"
    }
   ],
   "source": [
    "pur_count_by_gen = pd.DataFrame(purchase_data.groupby('Gender')['Gender'].count())\n",
    "total_pur_by_gen = pd.DataFrame(purchase_data.groupby('Gender')['Price'].sum())\n",
    "pur_analysis_gen = pd.merge(pur_count_by_gen, total_pur_by_gen, left_index = True, right_index = True)\n",
    "pur_analysis_gen.rename(columns = {'Gender': '# of Purchases', 'Price':'Total Purchase Value'}, inplace=True)\n",
    "pur_analysis_gen['Average Purchase Price'] = pur_analysis_gen['Total Purchase Value']/pur_analysis_gen['# of Purchases']\n",
    "pur_analysis_gen = pur_analysis_gen.merge(gender_counts, left_index = True, right_index = True)\n",
    "pur_analysis_gen['Normalized Totals'] = pur_analysis_gen['Total Purchase Value']/pur_analysis_gen['# of Players']\n",
    "pur_analysis_gen\n",
    "del pur_analysis_gen['% of Players']\n",
    "del pur_analysis_gen['# of Players']\n",
    "pur_analysis_gen.style.format({'Total Purchase Value': '${:.2f}', 'Average Purchase Price': '${:.2f}', 'Normalized Totals': '${:.2f}'})"
   ]
  },
  {
   "cell_type": "markdown",
   "metadata": {},
   "source": [
    "## Age Demographics"
   ]
  },
  {
   "cell_type": "markdown",
   "metadata": {},
   "source": [
    "* Establish bins for ages\n",
    "\n",
    "\n",
    "* Categorize the existing players using the age bins. Hint: use pd.cut()\n",
    "\n",
    "\n",
    "* Calculate the numbers and percentages by age group\n",
    "\n",
    "\n",
    "* Create a summary data frame to hold the results\n",
    "\n",
    "\n",
    "* Optional: round the percentage column to two decimal points\n",
    "\n",
    "\n",
    "* Display Age Demographics Table\n"
   ]
  },
  {
   "cell_type": "code",
   "execution_count": 15,
   "metadata": {},
   "outputs": [
    {
     "ename": "NameError",
     "evalue": "name 'pur_count_age' is not defined",
     "output_type": "error",
     "traceback": [
      "\u001b[1;31m---------------------------------------------------------------------------\u001b[0m",
      "\u001b[1;31mNameError\u001b[0m                                 Traceback (most recent call last)",
      "\u001b[1;32m<ipython-input-15-5f3b23ccae65>\u001b[0m in \u001b[0;36m<module>\u001b[1;34m()\u001b[0m\n\u001b[0;32m     11\u001b[0m \u001b[0mtot_pur_age\u001b[0m \u001b[1;33m=\u001b[0m \u001b[0mpd\u001b[0m\u001b[1;33m.\u001b[0m\u001b[0mDataFrame\u001b[0m\u001b[1;33m(\u001b[0m\u001b[0mpurchase_data\u001b[0m\u001b[1;33m.\u001b[0m\u001b[0mgroupby\u001b[0m\u001b[1;33m(\u001b[0m\u001b[1;34m'age_bin'\u001b[0m\u001b[1;33m)\u001b[0m\u001b[1;33m[\u001b[0m\u001b[1;34m'Price'\u001b[0m\u001b[1;33m]\u001b[0m\u001b[1;33m.\u001b[0m\u001b[0msum\u001b[0m\u001b[1;33m(\u001b[0m\u001b[1;33m)\u001b[0m\u001b[1;33m)\u001b[0m\u001b[1;33m\u001b[0m\u001b[0m\n\u001b[0;32m     12\u001b[0m \u001b[0mno_dup_age\u001b[0m \u001b[1;33m=\u001b[0m \u001b[0mpd\u001b[0m\u001b[1;33m.\u001b[0m\u001b[0mDataFrame\u001b[0m\u001b[1;33m(\u001b[0m\u001b[0mpurchase_data\u001b[0m\u001b[1;33m.\u001b[0m\u001b[0mdrop_duplicates\u001b[0m\u001b[1;33m(\u001b[0m\u001b[1;34m'SN'\u001b[0m\u001b[1;33m,\u001b[0m \u001b[0mkeep\u001b[0m \u001b[1;33m=\u001b[0m \u001b[1;34m'last'\u001b[0m\u001b[1;33m)\u001b[0m\u001b[1;33m.\u001b[0m\u001b[0mgroupby\u001b[0m\u001b[1;33m(\u001b[0m\u001b[1;34m'age_bin'\u001b[0m\u001b[1;33m)\u001b[0m\u001b[1;33m[\u001b[0m\u001b[1;34m'SN'\u001b[0m\u001b[1;33m]\u001b[0m\u001b[1;33m.\u001b[0m\u001b[0mcount\u001b[0m\u001b[1;33m(\u001b[0m\u001b[1;33m)\u001b[0m\u001b[1;33m)\u001b[0m\u001b[1;33m\u001b[0m\u001b[0m\n\u001b[1;32m---> 13\u001b[1;33m \u001b[0mmerge_age\u001b[0m \u001b[1;33m=\u001b[0m \u001b[0mpd\u001b[0m\u001b[1;33m.\u001b[0m\u001b[0mmerge\u001b[0m\u001b[1;33m(\u001b[0m\u001b[0mpur_count_age\u001b[0m\u001b[1;33m,\u001b[0m \u001b[0mavg_price_age\u001b[0m\u001b[1;33m,\u001b[0m \u001b[0mleft_index\u001b[0m \u001b[1;33m=\u001b[0m \u001b[1;32mTrue\u001b[0m\u001b[1;33m,\u001b[0m \u001b[0mright_index\u001b[0m \u001b[1;33m=\u001b[0m \u001b[1;32mTrue\u001b[0m\u001b[1;33m)\u001b[0m\u001b[1;33m.\u001b[0m\u001b[0mmerge\u001b[0m\u001b[1;33m(\u001b[0m\u001b[0mtot_pur_age\u001b[0m\u001b[1;33m,\u001b[0m \u001b[0mleft_index\u001b[0m \u001b[1;33m=\u001b[0m \u001b[1;32mTrue\u001b[0m\u001b[1;33m,\u001b[0m \u001b[0mright_index\u001b[0m \u001b[1;33m=\u001b[0m \u001b[1;32mTrue\u001b[0m\u001b[1;33m)\u001b[0m\u001b[1;33m.\u001b[0m\u001b[0mmerge\u001b[0m\u001b[1;33m(\u001b[0m\u001b[0mno_dup_age\u001b[0m\u001b[1;33m,\u001b[0m \u001b[0mleft_index\u001b[0m \u001b[1;33m=\u001b[0m \u001b[1;32mTrue\u001b[0m\u001b[1;33m,\u001b[0m \u001b[0mright_index\u001b[0m \u001b[1;33m=\u001b[0m \u001b[1;32mTrue\u001b[0m\u001b[1;33m)\u001b[0m\u001b[1;33m\u001b[0m\u001b[0m\n\u001b[0m\u001b[0;32m     14\u001b[0m \u001b[0mmerge_age\u001b[0m\u001b[1;33m.\u001b[0m\u001b[0mrename\u001b[0m\u001b[1;33m(\u001b[0m\u001b[0mcolumns\u001b[0m \u001b[1;33m=\u001b[0m \u001b[1;33m{\u001b[0m\u001b[1;34m\"SN_x\"\u001b[0m\u001b[1;33m:\u001b[0m \u001b[1;34m\"# of Purchases\"\u001b[0m\u001b[1;33m,\u001b[0m \u001b[1;34m\"Price_x\"\u001b[0m\u001b[1;33m:\u001b[0m \u001b[1;34m\"Average Purchase Price\"\u001b[0m\u001b[1;33m,\u001b[0m \u001b[1;34m\"Price_y\"\u001b[0m\u001b[1;33m:\u001b[0m \u001b[1;34m\"Total Purchase Value\"\u001b[0m\u001b[1;33m,\u001b[0m \u001b[1;34m\"SN_y\"\u001b[0m\u001b[1;33m:\u001b[0m \u001b[1;34m\"# of Purchasers\"\u001b[0m\u001b[1;33m}\u001b[0m\u001b[1;33m,\u001b[0m \u001b[0minplace\u001b[0m \u001b[1;33m=\u001b[0m \u001b[1;32mTrue\u001b[0m\u001b[1;33m)\u001b[0m\u001b[1;33m\u001b[0m\u001b[0m\n\u001b[0;32m     15\u001b[0m \u001b[0mmerge_age\u001b[0m\u001b[1;33m[\u001b[0m\u001b[1;34m'Normalized Totals'\u001b[0m\u001b[1;33m]\u001b[0m \u001b[1;33m=\u001b[0m \u001b[0mmerge_age\u001b[0m\u001b[1;33m[\u001b[0m\u001b[1;34m'Total Purchase Value'\u001b[0m\u001b[1;33m]\u001b[0m\u001b[1;33m/\u001b[0m\u001b[0mmerge_age\u001b[0m\u001b[1;33m[\u001b[0m\u001b[1;34m'# of Purchasers'\u001b[0m\u001b[1;33m]\u001b[0m\u001b[1;33m\u001b[0m\u001b[0m\n",
      "\u001b[1;31mNameError\u001b[0m: name 'pur_count_age' is not defined"
     ]
    }
   ],
   "source": [
    "purchase_data.loc[(purchase_data['Age'] < 10), 'age_bin'] = \"< 10\"\n",
    "purchase_data.loc[(purchase_data['Age'] >= 10) & (purchase_data['Age'] <= 14), 'age_bin'] = \"10 - 14\"\n",
    "purchase_data.loc[(purchase_data['Age'] >= 15) & (purchase_data['Age'] <= 19), 'age_bin'] = \"15 - 19\"\n",
    "purchase_data.loc[(purchase_data['Age'] >= 20) & (purchase_data['Age'] <= 24), 'age_bin'] = \"20 - 24\"\n",
    "purchase_data.loc[(purchase_data['Age'] >= 25) & (purchase_data['Age'] <= 29), 'age_bin'] = \"25 - 29\"\n",
    "purchase_data.loc[(purchase_data['Age'] >= 30) & (purchase_data['Age'] <= 34), 'age_bin'] = \"30 - 34\"\n",
    "purchase_data.loc[(purchase_data['Age'] >= 35) & (purchase_data['Age'] <= 39), 'age_bin'] = \"35 - 39\"\n",
    "purchase_data.loc[(purchase_data['Age'] >= 40), 'age_bin'] = \"> 40\"\n",
    "purchase_count_age = pd.DataFrame(purchase_data.groupby('age_bin')['SN'].count())\n",
    "avg_price_age = pd.DataFrame(purchase_data.groupby('age_bin')['Price'].mean())\n",
    "tot_pur_age = pd.DataFrame(purchase_data.groupby('age_bin')['Price'].sum())\n",
    "no_dup_age = pd.DataFrame(purchase_data.drop_duplicates('SN', keep = 'last').groupby('age_bin')['SN'].count())\n",
    "merge_age = pd.merge(pur_count_age, avg_price_age, left_index = True, right_index = True).merge(tot_pur_age, left_index = True, right_index = True).merge(no_dup_age, left_index = True, right_index = True)\n",
    "merge_age.rename(columns = {\"SN_x\": \"# of Purchases\", \"Price_x\": \"Average Purchase Price\", \"Price_y\": \"Total Purchase Value\", \"SN_y\": \"# of Purchasers\"}, inplace = True)\n",
    "merge_age['Normalized Totals'] = merge_age['Total Purchase Value']/merge_age['# of Purchasers']\n",
    "merge_age.index.rename(\"Age\", inplace = True)\n",
    "merge_age.style.format({'Average Purchase Price': '${:.2f}', 'Total Purchase Value': '${:.2f}', 'Normalized Totals': '${:.2f}'})"
   ]
  },
  {
   "cell_type": "markdown",
   "metadata": {},
   "source": [
    "## Purchasing Analysis (Age)"
   ]
  },
  {
   "cell_type": "markdown",
   "metadata": {},
   "source": [
    "* Bin the purchase_data data frame by age\n",
    "\n",
    "\n",
    "* Run basic calculations to obtain purchase count, avg. purchase price, avg. purchase total per person etc. in the table below\n",
    "\n",
    "\n",
    "* Create a summary data frame to hold the results\n",
    "\n",
    "\n",
    "* Optional: give the displayed data cleaner formatting\n",
    "\n",
    "\n",
    "* Display the summary data frame"
   ]
  },
  {
   "cell_type": "code",
   "execution_count": 7,
   "metadata": {},
   "outputs": [
    {
     "data": {
      "text/html": [
       "<div>\n",
       "<table border=\"1\" class=\"dataframe\">\n",
       "  <thead>\n",
       "    <tr style=\"text-align: right;\">\n",
       "      <th></th>\n",
       "      <th>Purchase Count</th>\n",
       "      <th>Average Purchase Price</th>\n",
       "      <th>Total Purchase Value</th>\n",
       "      <th>Avg Total Purchase per Person</th>\n",
       "    </tr>\n",
       "  </thead>\n",
       "  <tbody>\n",
       "    <tr>\n",
       "      <th>10-14</th>\n",
       "      <td>28</td>\n",
       "      <td>$2.96</td>\n",
       "      <td>$82.78</td>\n",
       "      <td>$3.76</td>\n",
       "    </tr>\n",
       "    <tr>\n",
       "      <th>15-19</th>\n",
       "      <td>136</td>\n",
       "      <td>$3.04</td>\n",
       "      <td>$412.89</td>\n",
       "      <td>$3.86</td>\n",
       "    </tr>\n",
       "    <tr>\n",
       "      <th>20-24</th>\n",
       "      <td>365</td>\n",
       "      <td>$3.05</td>\n",
       "      <td>$1,114.06</td>\n",
       "      <td>$4.32</td>\n",
       "    </tr>\n",
       "    <tr>\n",
       "      <th>25-29</th>\n",
       "      <td>101</td>\n",
       "      <td>$2.90</td>\n",
       "      <td>$293.00</td>\n",
       "      <td>$3.81</td>\n",
       "    </tr>\n",
       "    <tr>\n",
       "      <th>30-34</th>\n",
       "      <td>73</td>\n",
       "      <td>$2.93</td>\n",
       "      <td>$214.00</td>\n",
       "      <td>$4.12</td>\n",
       "    </tr>\n",
       "    <tr>\n",
       "      <th>35-39</th>\n",
       "      <td>41</td>\n",
       "      <td>$3.60</td>\n",
       "      <td>$147.67</td>\n",
       "      <td>$4.76</td>\n",
       "    </tr>\n",
       "    <tr>\n",
       "      <th>40+</th>\n",
       "      <td>13</td>\n",
       "      <td>$2.94</td>\n",
       "      <td>$38.24</td>\n",
       "      <td>$3.19</td>\n",
       "    </tr>\n",
       "    <tr>\n",
       "      <th>&lt;10</th>\n",
       "      <td>23</td>\n",
       "      <td>$3.35</td>\n",
       "      <td>$77.13</td>\n",
       "      <td>$4.54</td>\n",
       "    </tr>\n",
       "  </tbody>\n",
       "</table>\n",
       "</div>"
      ],
      "text/plain": [
       "      Purchase Count Average Purchase Price Total Purchase Value  \\\n",
       "10-14             28                  $2.96               $82.78   \n",
       "15-19            136                  $3.04              $412.89   \n",
       "20-24            365                  $3.05            $1,114.06   \n",
       "25-29            101                  $2.90              $293.00   \n",
       "30-34             73                  $2.93              $214.00   \n",
       "35-39             41                  $3.60              $147.67   \n",
       "40+               13                  $2.94               $38.24   \n",
       "<10               23                  $3.35               $77.13   \n",
       "\n",
       "      Avg Total Purchase per Person  \n",
       "10-14                         $3.76  \n",
       "15-19                         $3.86  \n",
       "20-24                         $4.32  \n",
       "25-29                         $3.81  \n",
       "30-34                         $4.12  \n",
       "35-39                         $4.76  \n",
       "40+                           $3.19  \n",
       "<10                           $4.54  "
      ]
     },
     "execution_count": 7,
     "metadata": {},
     "output_type": "execute_result"
    }
   ],
   "source": []
  },
  {
   "cell_type": "markdown",
   "metadata": {},
   "source": [
    "## Top Spenders"
   ]
  },
  {
   "cell_type": "markdown",
   "metadata": {},
   "source": [
    "* Run basic calculations to obtain the results in the table below\n",
    "\n",
    "\n",
    "* Create a summary data frame to hold the results\n",
    "\n",
    "\n",
    "* Sort the total purchase value column in descending order\n",
    "\n",
    "\n",
    "* Optional: give the displayed data cleaner formatting\n",
    "\n",
    "\n",
    "* Display a preview of the summary data frame\n",
    "\n"
   ]
  },
  {
   "cell_type": "code",
   "execution_count": 17,
   "metadata": {},
   "outputs": [
    {
     "data": {
      "text/html": [
       "<style  type=\"text/css\" >\n",
       "</style>  \n",
       "<table id=\"T_1dded2f4_cf09_11e8_8a90_5cea1d6be82c\" > \n",
       "<thead>    <tr> \n",
       "        <th class=\"blank level0\" ></th> \n",
       "        <th class=\"col_heading level0 col0\" >Total Purchase Value</th> \n",
       "        <th class=\"col_heading level0 col1\" >Purchase Count</th> \n",
       "        <th class=\"col_heading level0 col2\" >Average Purchase Price</th> \n",
       "    </tr>    <tr> \n",
       "        <th class=\"index_name level0\" >SN</th> \n",
       "        <th class=\"blank\" ></th> \n",
       "        <th class=\"blank\" ></th> \n",
       "        <th class=\"blank\" ></th> \n",
       "    </tr></thead> \n",
       "<tbody>    <tr> \n",
       "        <th id=\"T_1dded2f4_cf09_11e8_8a90_5cea1d6be82clevel0_row0\" class=\"row_heading level0 row0\" >Lisosia93</th> \n",
       "        <td id=\"T_1dded2f4_cf09_11e8_8a90_5cea1d6be82crow0_col0\" class=\"data row0 col0\" >$18.96</td> \n",
       "        <td id=\"T_1dded2f4_cf09_11e8_8a90_5cea1d6be82crow0_col1\" class=\"data row0 col1\" >5</td> \n",
       "        <td id=\"T_1dded2f4_cf09_11e8_8a90_5cea1d6be82crow0_col2\" class=\"data row0 col2\" >$3.79</td> \n",
       "    </tr>    <tr> \n",
       "        <th id=\"T_1dded2f4_cf09_11e8_8a90_5cea1d6be82clevel0_row1\" class=\"row_heading level0 row1\" >Idastidru52</th> \n",
       "        <td id=\"T_1dded2f4_cf09_11e8_8a90_5cea1d6be82crow1_col0\" class=\"data row1 col0\" >$15.45</td> \n",
       "        <td id=\"T_1dded2f4_cf09_11e8_8a90_5cea1d6be82crow1_col1\" class=\"data row1 col1\" >4</td> \n",
       "        <td id=\"T_1dded2f4_cf09_11e8_8a90_5cea1d6be82crow1_col2\" class=\"data row1 col2\" >$3.86</td> \n",
       "    </tr>    <tr> \n",
       "        <th id=\"T_1dded2f4_cf09_11e8_8a90_5cea1d6be82clevel0_row2\" class=\"row_heading level0 row2\" >Chamjask73</th> \n",
       "        <td id=\"T_1dded2f4_cf09_11e8_8a90_5cea1d6be82crow2_col0\" class=\"data row2 col0\" >$13.83</td> \n",
       "        <td id=\"T_1dded2f4_cf09_11e8_8a90_5cea1d6be82crow2_col1\" class=\"data row2 col1\" >3</td> \n",
       "        <td id=\"T_1dded2f4_cf09_11e8_8a90_5cea1d6be82crow2_col2\" class=\"data row2 col2\" >$4.61</td> \n",
       "    </tr>    <tr> \n",
       "        <th id=\"T_1dded2f4_cf09_11e8_8a90_5cea1d6be82clevel0_row3\" class=\"row_heading level0 row3\" >Iral74</th> \n",
       "        <td id=\"T_1dded2f4_cf09_11e8_8a90_5cea1d6be82crow3_col0\" class=\"data row3 col0\" >$13.62</td> \n",
       "        <td id=\"T_1dded2f4_cf09_11e8_8a90_5cea1d6be82crow3_col1\" class=\"data row3 col1\" >4</td> \n",
       "        <td id=\"T_1dded2f4_cf09_11e8_8a90_5cea1d6be82crow3_col2\" class=\"data row3 col2\" >$3.40</td> \n",
       "    </tr>    <tr> \n",
       "        <th id=\"T_1dded2f4_cf09_11e8_8a90_5cea1d6be82clevel0_row4\" class=\"row_heading level0 row4\" >Iskadarya95</th> \n",
       "        <td id=\"T_1dded2f4_cf09_11e8_8a90_5cea1d6be82crow4_col0\" class=\"data row4 col0\" >$13.10</td> \n",
       "        <td id=\"T_1dded2f4_cf09_11e8_8a90_5cea1d6be82crow4_col1\" class=\"data row4 col1\" >3</td> \n",
       "        <td id=\"T_1dded2f4_cf09_11e8_8a90_5cea1d6be82crow4_col2\" class=\"data row4 col2\" >$4.37</td> \n",
       "    </tr></tbody> \n",
       "</table> "
      ],
      "text/plain": [
       "<pandas.io.formats.style.Styler at 0x1e69507ac18>"
      ]
     },
     "execution_count": 17,
     "metadata": {},
     "output_type": "execute_result"
    }
   ],
   "source": [
    "purchase_amt_by_SN = pd.DataFrame(purchase_data.groupby('SN')['Price'].sum())\n",
    "num_purchase_by_SN = pd.DataFrame(purchase_data.groupby('SN')['Price'].count())\n",
    "avg_purchase_by_SN = pd.DataFrame(purchase_data.groupby('SN')['Price'].mean())\n",
    "# merge the above dfs\n",
    "merged_top5 = pd.merge(purchase_amt_by_SN, num_purchase_by_SN, left_index = True, right_index = True).merge(avg_purchase_by_SN, left_index=True, right_index=True)\n",
    "# rename columns\n",
    "merged_top5.rename(columns = {'Price_x': 'Total Purchase Value', 'Price_y':'Purchase Count', 'Price':'Average Purchase Price'}, inplace = True)\n",
    "# sort from highest purchase value to lowest\n",
    "merged_top5.sort_values('Total Purchase Value', ascending = False, inplace=True)\n",
    "# take top 5 only\n",
    "merged_top5 = merged_top5.head()\n",
    "# format\n",
    "merged_top5.style.format({'Total Purchase Value': '${:.2f}', 'Average Purchase Price': '${:.2f}'})"
   ]
  },
  {
   "cell_type": "markdown",
   "metadata": {},
   "source": [
    "## Most Popular Items"
   ]
  },
  {
   "cell_type": "markdown",
   "metadata": {},
   "source": [
    "* Retrieve the Item ID, Item Name, and Item Price columns\n",
    "\n",
    "\n",
    "* Group by Item ID and Item Name. Perform calculations to obtain purchase count, item price, and total purchase value\n",
    "\n",
    "\n",
    "* Create a summary data frame to hold the results\n",
    "\n",
    "\n",
    "* Sort the purchase count column in descending order\n",
    "\n",
    "\n",
    "* Optional: give the displayed data cleaner formatting\n",
    "\n",
    "\n",
    "* Display a preview of the summary data frame\n",
    "\n"
   ]
  },
  {
   "cell_type": "code",
   "execution_count": 21,
   "metadata": {},
   "outputs": [
    {
     "name": "stderr",
     "output_type": "stream",
     "text": [
      "C:\\Users\\Anna\\Anaconda3\\lib\\site-packages\\ipykernel_launcher.py:2: FutureWarning: 'Item ID' is both an index level and a column label.\n",
      "Defaulting to column, but this will raise an ambiguity error in a future version\n",
      "  \n"
     ]
    },
    {
     "data": {
      "text/html": [
       "<div>\n",
       "<style scoped>\n",
       "    .dataframe tbody tr th:only-of-type {\n",
       "        vertical-align: middle;\n",
       "    }\n",
       "\n",
       "    .dataframe tbody tr th {\n",
       "        vertical-align: top;\n",
       "    }\n",
       "\n",
       "    .dataframe thead th {\n",
       "        text-align: right;\n",
       "    }\n",
       "</style>\n",
       "<table border=\"1\" class=\"dataframe\">\n",
       "  <thead>\n",
       "    <tr style=\"text-align: right;\">\n",
       "      <th></th>\n",
       "      <th>Item Name</th>\n",
       "      <th>Purchase Count</th>\n",
       "      <th>Item Price</th>\n",
       "      <th>Total Purchase Value</th>\n",
       "    </tr>\n",
       "    <tr>\n",
       "      <th>Item ID</th>\n",
       "      <th></th>\n",
       "      <th></th>\n",
       "      <th></th>\n",
       "      <th></th>\n",
       "    </tr>\n",
       "  </thead>\n",
       "  <tbody>\n",
       "    <tr>\n",
       "      <th>178</th>\n",
       "      <td>Oathbreaker, Last Hope of the Breaking Storm</td>\n",
       "      <td>12</td>\n",
       "      <td>4.23</td>\n",
       "      <td>50.76</td>\n",
       "    </tr>\n",
       "    <tr>\n",
       "      <th>145</th>\n",
       "      <td>Fiery Glass Crusader</td>\n",
       "      <td>9</td>\n",
       "      <td>4.58</td>\n",
       "      <td>41.22</td>\n",
       "    </tr>\n",
       "    <tr>\n",
       "      <th>108</th>\n",
       "      <td>Extraction, Quickblade Of Trembling Hands</td>\n",
       "      <td>9</td>\n",
       "      <td>3.53</td>\n",
       "      <td>31.77</td>\n",
       "    </tr>\n",
       "    <tr>\n",
       "      <th>82</th>\n",
       "      <td>Nirvana</td>\n",
       "      <td>9</td>\n",
       "      <td>4.90</td>\n",
       "      <td>44.10</td>\n",
       "    </tr>\n",
       "    <tr>\n",
       "      <th>19</th>\n",
       "      <td>Pursuit, Cudgel of Necromancy</td>\n",
       "      <td>8</td>\n",
       "      <td>1.02</td>\n",
       "      <td>8.16</td>\n",
       "    </tr>\n",
       "  </tbody>\n",
       "</table>\n",
       "</div>"
      ],
      "text/plain": [
       "                                            Item Name  Purchase Count  \\\n",
       "Item ID                                                                 \n",
       "178      Oathbreaker, Last Hope of the Breaking Storm              12   \n",
       "145                              Fiery Glass Crusader               9   \n",
       "108         Extraction, Quickblade Of Trembling Hands               9   \n",
       "82                                            Nirvana               9   \n",
       "19                      Pursuit, Cudgel of Necromancy               8   \n",
       "\n",
       "         Item Price  Total Purchase Value  \n",
       "Item ID                                    \n",
       "178            4.23                 50.76  \n",
       "145            4.58                 41.22  \n",
       "108            3.53                 31.77  \n",
       "82             4.90                 44.10  \n",
       "19             1.02                  8.16  "
      ]
     },
     "execution_count": 21,
     "metadata": {},
     "output_type": "execute_result"
    }
   ],
   "source": [
    "top5_items_ID = pd.DataFrame(purchase_data.groupby('Item ID')['Item ID'].count())\n",
    "top5_items_ID.sort_values('Item ID', ascending = False, inplace = True)\n",
    "top5_items_ID = top5_items_ID.iloc[0:6][:]\n",
    "top5_items_total = pd.DataFrame(purchase_data.groupby('Item ID')['Price'].sum())\n",
    "top5_items = pd.merge(top5_items_ID, top5_items_total, left_index = True, right_index = True)\n",
    "no_dup_items = purchase_data.drop_duplicates(['Item ID'], keep = 'last')\n",
    "top5_merge_ID = pd.merge(top5_items, no_dup_items, left_index = True, right_on = 'Item ID')\n",
    "top5_merge_ID = top5_merge_ID[['Item ID', 'Item Name', 'Item ID_x', 'Price_y', 'Price_x']]\n",
    "top5_merge_ID.set_index(['Item ID'], inplace = True)\n",
    "top5_merge_ID.rename(columns =  {'Item ID_x': 'Purchase Count', 'Price_y': 'Item Price', 'Price_x': 'Total Purchase Value'}, inplace=True)\n",
    "top5_merge_ID.style.format({'Item Price': '${:.2f}', 'Total Purchase Value': '${:.2f}'})\n",
    "top5_merge_ID.head()"
   ]
  },
  {
   "cell_type": "markdown",
   "metadata": {},
   "source": [
    "## Most Profitable Items"
   ]
  },
  {
   "cell_type": "markdown",
   "metadata": {},
   "source": [
    "* Sort the above table by total purchase value in descending order\n",
    "\n",
    "\n",
    "* Optional: give the displayed data cleaner formatting\n",
    "\n",
    "\n",
    "* Display a preview of the data frame\n",
    "\n"
   ]
  },
  {
   "cell_type": "code",
   "execution_count": 22,
   "metadata": {
    "scrolled": true
   },
   "outputs": [
    {
     "data": {
      "text/html": [
       "<style  type=\"text/css\" >\n",
       "</style>  \n",
       "<table id=\"T_6b0301c0_cf09_11e8_b433_5cea1d6be82c\" > \n",
       "<thead>    <tr> \n",
       "        <th class=\"blank level0\" ></th> \n",
       "        <th class=\"col_heading level0 col0\" >Item Name</th> \n",
       "        <th class=\"col_heading level0 col1\" >Purchase Count</th> \n",
       "        <th class=\"col_heading level0 col2\" >Item Price</th> \n",
       "        <th class=\"col_heading level0 col3\" >Total Purchase Value</th> \n",
       "    </tr>    <tr> \n",
       "        <th class=\"index_name level0\" >Item ID</th> \n",
       "        <th class=\"blank\" ></th> \n",
       "        <th class=\"blank\" ></th> \n",
       "        <th class=\"blank\" ></th> \n",
       "        <th class=\"blank\" ></th> \n",
       "    </tr></thead> \n",
       "<tbody>    <tr> \n",
       "        <th id=\"T_6b0301c0_cf09_11e8_b433_5cea1d6be82clevel0_row0\" class=\"row_heading level0 row0\" >178</th> \n",
       "        <td id=\"T_6b0301c0_cf09_11e8_b433_5cea1d6be82crow0_col0\" class=\"data row0 col0\" >Oathbreaker, Last Hope of the Breaking Storm</td> \n",
       "        <td id=\"T_6b0301c0_cf09_11e8_b433_5cea1d6be82crow0_col1\" class=\"data row0 col1\" >12</td> \n",
       "        <td id=\"T_6b0301c0_cf09_11e8_b433_5cea1d6be82crow0_col2\" class=\"data row0 col2\" >$4.23</td> \n",
       "        <td id=\"T_6b0301c0_cf09_11e8_b433_5cea1d6be82crow0_col3\" class=\"data row0 col3\" >$50.76</td> \n",
       "    </tr>    <tr> \n",
       "        <th id=\"T_6b0301c0_cf09_11e8_b433_5cea1d6be82clevel0_row1\" class=\"row_heading level0 row1\" >82</th> \n",
       "        <td id=\"T_6b0301c0_cf09_11e8_b433_5cea1d6be82crow1_col0\" class=\"data row1 col0\" >Nirvana</td> \n",
       "        <td id=\"T_6b0301c0_cf09_11e8_b433_5cea1d6be82crow1_col1\" class=\"data row1 col1\" >9</td> \n",
       "        <td id=\"T_6b0301c0_cf09_11e8_b433_5cea1d6be82crow1_col2\" class=\"data row1 col2\" >$4.90</td> \n",
       "        <td id=\"T_6b0301c0_cf09_11e8_b433_5cea1d6be82crow1_col3\" class=\"data row1 col3\" >$44.10</td> \n",
       "    </tr>    <tr> \n",
       "        <th id=\"T_6b0301c0_cf09_11e8_b433_5cea1d6be82clevel0_row2\" class=\"row_heading level0 row2\" >145</th> \n",
       "        <td id=\"T_6b0301c0_cf09_11e8_b433_5cea1d6be82crow2_col0\" class=\"data row2 col0\" >Fiery Glass Crusader</td> \n",
       "        <td id=\"T_6b0301c0_cf09_11e8_b433_5cea1d6be82crow2_col1\" class=\"data row2 col1\" >9</td> \n",
       "        <td id=\"T_6b0301c0_cf09_11e8_b433_5cea1d6be82crow2_col2\" class=\"data row2 col2\" >$4.58</td> \n",
       "        <td id=\"T_6b0301c0_cf09_11e8_b433_5cea1d6be82crow2_col3\" class=\"data row2 col3\" >$41.22</td> \n",
       "    </tr>    <tr> \n",
       "        <th id=\"T_6b0301c0_cf09_11e8_b433_5cea1d6be82clevel0_row3\" class=\"row_heading level0 row3\" >92</th> \n",
       "        <td id=\"T_6b0301c0_cf09_11e8_b433_5cea1d6be82crow3_col0\" class=\"data row3 col0\" >Final Critic</td> \n",
       "        <td id=\"T_6b0301c0_cf09_11e8_b433_5cea1d6be82crow3_col1\" class=\"data row3 col1\" >8</td> \n",
       "        <td id=\"T_6b0301c0_cf09_11e8_b433_5cea1d6be82crow3_col2\" class=\"data row3 col2\" >$4.88</td> \n",
       "        <td id=\"T_6b0301c0_cf09_11e8_b433_5cea1d6be82crow3_col3\" class=\"data row3 col3\" >$39.04</td> \n",
       "    </tr>    <tr> \n",
       "        <th id=\"T_6b0301c0_cf09_11e8_b433_5cea1d6be82clevel0_row4\" class=\"row_heading level0 row4\" >103</th> \n",
       "        <td id=\"T_6b0301c0_cf09_11e8_b433_5cea1d6be82crow4_col0\" class=\"data row4 col0\" >Singed Scalpel</td> \n",
       "        <td id=\"T_6b0301c0_cf09_11e8_b433_5cea1d6be82crow4_col1\" class=\"data row4 col1\" >8</td> \n",
       "        <td id=\"T_6b0301c0_cf09_11e8_b433_5cea1d6be82crow4_col2\" class=\"data row4 col2\" >$4.35</td> \n",
       "        <td id=\"T_6b0301c0_cf09_11e8_b433_5cea1d6be82crow4_col3\" class=\"data row4 col3\" >$34.80</td> \n",
       "    </tr></tbody> \n",
       "</table> "
      ],
      "text/plain": [
       "<pandas.io.formats.style.Styler at 0x1e6950c3470>"
      ]
     },
     "execution_count": 22,
     "metadata": {},
     "output_type": "execute_result"
    }
   ],
   "source": [
    "top5_profit = pd.DataFrame(purchase_data.groupby('Item ID')['Price'].sum())\n",
    "top5_profit.sort_values('Price', ascending = False, inplace = True)\n",
    "top5_profit = top5_profit.iloc[0:5][:]\n",
    "pur_count_profit = pd.DataFrame(purchase_data.groupby('Item ID')['Item ID'].count())\n",
    "top5_profit = pd.merge(top5_profit, pur_count_profit, left_index = True, right_index = True, how = 'left')\n",
    "top5_merge_profit = pd.merge(top5_profit, no_dup_items, left_index = True, right_on = 'Item ID', how = 'left')\n",
    "top5_merge_profit = top5_merge_profit[['Item ID', 'Item Name', 'Item ID_x', 'Price_y','Price_x']]\n",
    "top5_merge_profit.set_index(['Item ID'], inplace=True)\n",
    "top5_merge_profit.rename(columns = {'Item ID_x': 'Purchase Count', 'Price_y': 'Item Price', 'Price_x': 'Total Purchase Value'}, inplace = True)\n",
    "top5_merge_profit.style.format({'Item Price': '${:.2f}', 'Total Purchase Value': '${:.2f}'})"
   ]
  },
  {
   "cell_type": "code",
   "execution_count": null,
   "metadata": {},
   "outputs": [],
   "source": []
  }
 ],
 "metadata": {
  "anaconda-cloud": {},
  "kernel_info": {
   "name": "python3"
  },
  "kernelspec": {
   "display_name": "Python 3",
   "language": "python",
   "name": "python3"
  },
  "language_info": {
   "codemirror_mode": {
    "name": "ipython",
    "version": 3
   },
   "file_extension": ".py",
   "mimetype": "text/x-python",
   "name": "python",
   "nbconvert_exporter": "python",
   "pygments_lexer": "ipython3",
   "version": "3.6.5"
  },
  "nteract": {
   "version": "0.2.0"
  }
 },
 "nbformat": 4,
 "nbformat_minor": 2
}
